{
 "cells": [
  {
   "cell_type": "code",
   "execution_count": 163,
   "id": "af2acf6c-cc3b-4f82-95e7-f92314a0c617",
   "metadata": {},
   "outputs": [],
   "source": [
    "import pandas as pd\n",
    "import numpy as np \n",
    "import seaborn as sns\n",
    "import matplotlib as plt\n",
    "from functools import reduce"
   ]
  },
  {
   "cell_type": "code",
   "execution_count": 4,
   "id": "4b522a9d-e422-441a-9019-c7fc79592044",
   "metadata": {},
   "outputs": [],
   "source": [
    "data1 = pd.read_csv(r\"C:\\Users\\hp\\Desktop\\Cyclisc Company\\202312-divvy-tripdata.csv\")\n",
    "data2 = pd.read_csv(r\"C:\\Users\\hp\\Desktop\\Cyclisc Company\\202401-divvy-tripdata.csv\")\n",
    "data3 = pd.read_csv(r\"C:\\Users\\hp\\Desktop\\Cyclisc Company\\202402-divvy-tripdata.csv\")\n",
    "data4 = pd.read_csv(r\"C:\\Users\\hp\\Desktop\\Cyclisc Company\\202403-divvy-tripdata.csv\")\n",
    "data5 = pd.read_csv(r\"C:\\Users\\hp\\Desktop\\Cyclisc Company\\202404-divvy-tripdata.csv\")\n",
    "data6 = pd.read_csv(r\"C:\\Users\\hp\\Desktop\\Cyclisc Company\\202405-divvy-tripdata.csv\")\n",
    "data7 = pd.read_csv(r\"C:\\Users\\hp\\Desktop\\Cyclisc Company\\202406-divvy-tripdata.csv\")\n",
    "data8 = pd.read_csv(r\"C:\\Users\\hp\\Desktop\\Cyclisc Company\\202407-divvy-tripdata.csv\")\n",
    "data9 = pd.read_csv(r\"C:\\Users\\hp\\Desktop\\Cyclisc Company\\202408-divvy-tripdata.csv\")\n",
    "data10 = pd.read_csv(r\"C:\\Users\\hp\\Desktop\\Cyclisc Company\\202409-divvy-tripdata.csv\")\n",
    "data11 = pd.read_csv(r\"C:\\Users\\hp\\Desktop\\Cyclisc Company\\202410-divvy-tripdata.csv\")\n",
    "data12 = pd.read_csv(r\"C:\\Users\\hp\\Desktop\\Cyclisc Company\\202411-divvy-tripdata.csv\")\n"
   ]
  },
  {
   "cell_type": "code",
   "execution_count": 104,
   "id": "deacd9cd-794b-401f-9b64-368c3cb0a665",
   "metadata": {},
   "outputs": [
    {
     "data": {
      "text/html": [
       "<div>\n",
       "<style scoped>\n",
       "    .dataframe tbody tr th:only-of-type {\n",
       "        vertical-align: middle;\n",
       "    }\n",
       "\n",
       "    .dataframe tbody tr th {\n",
       "        vertical-align: top;\n",
       "    }\n",
       "\n",
       "    .dataframe thead th {\n",
       "        text-align: right;\n",
       "    }\n",
       "</style>\n",
       "<table border=\"1\" class=\"dataframe\">\n",
       "  <thead>\n",
       "    <tr style=\"text-align: right;\">\n",
       "      <th></th>\n",
       "      <th>ride_id</th>\n",
       "      <th>rideable_type</th>\n",
       "      <th>started_at</th>\n",
       "      <th>ended_at</th>\n",
       "      <th>start_station_name</th>\n",
       "      <th>start_station_id</th>\n",
       "      <th>end_station_name</th>\n",
       "      <th>end_station_id</th>\n",
       "      <th>start_lat</th>\n",
       "      <th>start_lng</th>\n",
       "      <th>end_lat</th>\n",
       "      <th>end_lng</th>\n",
       "      <th>member_casual</th>\n",
       "    </tr>\n",
       "  </thead>\n",
       "  <tbody>\n",
       "    <tr>\n",
       "      <th>0</th>\n",
       "      <td>C9BD54F578F57246</td>\n",
       "      <td>electric_bike</td>\n",
       "      <td>2023-12-02 18:44:01</td>\n",
       "      <td>2023-12-02 18:47:51</td>\n",
       "      <td>NaN</td>\n",
       "      <td>NaN</td>\n",
       "      <td>NaN</td>\n",
       "      <td>NaN</td>\n",
       "      <td>41.92</td>\n",
       "      <td>-87.66</td>\n",
       "      <td>41.92</td>\n",
       "      <td>-87.66</td>\n",
       "      <td>member</td>\n",
       "    </tr>\n",
       "    <tr>\n",
       "      <th>1</th>\n",
       "      <td>CDBD92F067FA620E</td>\n",
       "      <td>electric_bike</td>\n",
       "      <td>2023-12-02 18:48:19</td>\n",
       "      <td>2023-12-02 18:54:48</td>\n",
       "      <td>NaN</td>\n",
       "      <td>NaN</td>\n",
       "      <td>NaN</td>\n",
       "      <td>NaN</td>\n",
       "      <td>41.92</td>\n",
       "      <td>-87.66</td>\n",
       "      <td>41.89</td>\n",
       "      <td>-87.64</td>\n",
       "      <td>member</td>\n",
       "    </tr>\n",
       "    <tr>\n",
       "      <th>2</th>\n",
       "      <td>ABC0858E52CBFC84</td>\n",
       "      <td>electric_bike</td>\n",
       "      <td>2023-12-24 01:56:32</td>\n",
       "      <td>2023-12-24 02:04:09</td>\n",
       "      <td>NaN</td>\n",
       "      <td>NaN</td>\n",
       "      <td>NaN</td>\n",
       "      <td>NaN</td>\n",
       "      <td>41.89</td>\n",
       "      <td>-87.62</td>\n",
       "      <td>41.90</td>\n",
       "      <td>-87.64</td>\n",
       "      <td>member</td>\n",
       "    </tr>\n",
       "    <tr>\n",
       "      <th>3</th>\n",
       "      <td>F44B6F0E8F76DC90</td>\n",
       "      <td>electric_bike</td>\n",
       "      <td>2023-12-24 10:58:12</td>\n",
       "      <td>2023-12-24 11:03:04</td>\n",
       "      <td>NaN</td>\n",
       "      <td>NaN</td>\n",
       "      <td>NaN</td>\n",
       "      <td>NaN</td>\n",
       "      <td>41.95</td>\n",
       "      <td>-87.65</td>\n",
       "      <td>41.94</td>\n",
       "      <td>-87.65</td>\n",
       "      <td>member</td>\n",
       "    </tr>\n",
       "    <tr>\n",
       "      <th>4</th>\n",
       "      <td>3C876413281A90DF</td>\n",
       "      <td>electric_bike</td>\n",
       "      <td>2023-12-24 12:43:16</td>\n",
       "      <td>2023-12-24 12:44:57</td>\n",
       "      <td>NaN</td>\n",
       "      <td>NaN</td>\n",
       "      <td>NaN</td>\n",
       "      <td>NaN</td>\n",
       "      <td>41.92</td>\n",
       "      <td>-87.64</td>\n",
       "      <td>41.93</td>\n",
       "      <td>-87.64</td>\n",
       "      <td>member</td>\n",
       "    </tr>\n",
       "  </tbody>\n",
       "</table>\n",
       "</div>"
      ],
      "text/plain": [
       "            ride_id  rideable_type           started_at             ended_at  \\\n",
       "0  C9BD54F578F57246  electric_bike  2023-12-02 18:44:01  2023-12-02 18:47:51   \n",
       "1  CDBD92F067FA620E  electric_bike  2023-12-02 18:48:19  2023-12-02 18:54:48   \n",
       "2  ABC0858E52CBFC84  electric_bike  2023-12-24 01:56:32  2023-12-24 02:04:09   \n",
       "3  F44B6F0E8F76DC90  electric_bike  2023-12-24 10:58:12  2023-12-24 11:03:04   \n",
       "4  3C876413281A90DF  electric_bike  2023-12-24 12:43:16  2023-12-24 12:44:57   \n",
       "\n",
       "  start_station_name start_station_id end_station_name end_station_id  \\\n",
       "0                NaN              NaN              NaN            NaN   \n",
       "1                NaN              NaN              NaN            NaN   \n",
       "2                NaN              NaN              NaN            NaN   \n",
       "3                NaN              NaN              NaN            NaN   \n",
       "4                NaN              NaN              NaN            NaN   \n",
       "\n",
       "   start_lat  start_lng  end_lat  end_lng member_casual  \n",
       "0      41.92     -87.66    41.92   -87.66        member  \n",
       "1      41.92     -87.66    41.89   -87.64        member  \n",
       "2      41.89     -87.62    41.90   -87.64        member  \n",
       "3      41.95     -87.65    41.94   -87.65        member  \n",
       "4      41.92     -87.64    41.93   -87.64        member  "
      ]
     },
     "execution_count": 104,
     "metadata": {},
     "output_type": "execute_result"
    }
   ],
   "source": [
    "data1.head()"
   ]
  },
  {
   "cell_type": "code",
   "execution_count": 14,
   "id": "e64d66e7-2571-4596-bf45-6b3e12dcb7db",
   "metadata": {},
   "outputs": [
    {
     "data": {
      "text/plain": [
       "ride_id                object\n",
       "rideable_type          object\n",
       "started_at             object\n",
       "ended_at               object\n",
       "start_station_name     object\n",
       "start_station_id       object\n",
       "end_station_name       object\n",
       "end_station_id         object\n",
       "start_lat             float64\n",
       "start_lng             float64\n",
       "end_lat               float64\n",
       "end_lng               float64\n",
       "member_casual          object\n",
       "dtype: object"
      ]
     },
     "execution_count": 14,
     "metadata": {},
     "output_type": "execute_result"
    }
   ],
   "source": [
    "data1.dtypes"
   ]
  },
  {
   "cell_type": "code",
   "execution_count": 12,
   "id": "6cccf256-a156-41c6-b527-5c2ae30bbb50",
   "metadata": {},
   "outputs": [
    {
     "name": "stdout",
     "output_type": "stream",
     "text": [
      "<class 'pandas.core.frame.DataFrame'>\n",
      "RangeIndex: 224073 entries, 0 to 224072\n",
      "Data columns (total 13 columns):\n",
      " #   Column              Non-Null Count   Dtype  \n",
      "---  ------              --------------   -----  \n",
      " 0   ride_id             224073 non-null  object \n",
      " 1   rideable_type       224073 non-null  object \n",
      " 2   started_at          224073 non-null  object \n",
      " 3   ended_at            224073 non-null  object \n",
      " 4   start_station_name  188363 non-null  object \n",
      " 5   start_station_id    188363 non-null  object \n",
      " 6   end_station_name    186149 non-null  object \n",
      " 7   end_station_id      186149 non-null  object \n",
      " 8   start_lat           224073 non-null  float64\n",
      " 9   start_lng           224073 non-null  float64\n",
      " 10  end_lat             223834 non-null  float64\n",
      " 11  end_lng             223834 non-null  float64\n",
      " 12  member_casual       224073 non-null  object \n",
      "dtypes: float64(4), object(9)\n",
      "memory usage: 22.2+ MB\n"
     ]
    }
   ],
   "source": [
    "data1.info()"
   ]
  },
  {
   "cell_type": "code",
   "execution_count": 16,
   "id": "393e1064-a9cf-4fb9-81f0-8d03b3908ec7",
   "metadata": {},
   "outputs": [
    {
     "data": {
      "text/plain": [
       "(224073, 13)"
      ]
     },
     "execution_count": 16,
     "metadata": {},
     "output_type": "execute_result"
    }
   ],
   "source": [
    "data1.shape"
   ]
  },
  {
   "cell_type": "code",
   "execution_count": 18,
   "id": "7315283e-86f0-44d2-b2ed-fcb3a9b28039",
   "metadata": {},
   "outputs": [
    {
     "data": {
      "text/plain": [
       "ride_id                   0\n",
       "rideable_type             0\n",
       "started_at                0\n",
       "ended_at                  0\n",
       "start_station_name    35710\n",
       "start_station_id      35710\n",
       "end_station_name      37924\n",
       "end_station_id        37924\n",
       "start_lat                 0\n",
       "start_lng                 0\n",
       "end_lat                 239\n",
       "end_lng                 239\n",
       "member_casual             0\n",
       "dtype: int64"
      ]
     },
     "execution_count": 18,
     "metadata": {},
     "output_type": "execute_result"
    }
   ],
   "source": [
    "data1.isnull().sum()"
   ]
  },
  {
   "cell_type": "code",
   "execution_count": 20,
   "id": "3c1a72b0-5489-4fb0-9e79-3f9745a9b446",
   "metadata": {},
   "outputs": [],
   "source": [
    "#Merge datasets to form a single dataset\n",
    "data = [data1, data2, data3, data4, data5, data6, data7, data8, data9, data10, data11, data12]\n",
    "df_merged = reduce(lambda  left,right: pd.merge(left,right, how='outer'), data)"
   ]
  },
  {
   "cell_type": "code",
   "execution_count": 139,
   "id": "2ca05944-910e-4257-9777-6756a5c20874",
   "metadata": {
    "scrolled": true
   },
   "outputs": [
    {
     "data": {
      "text/html": [
       "<div>\n",
       "<style scoped>\n",
       "    .dataframe tbody tr th:only-of-type {\n",
       "        vertical-align: middle;\n",
       "    }\n",
       "\n",
       "    .dataframe tbody tr th {\n",
       "        vertical-align: top;\n",
       "    }\n",
       "\n",
       "    .dataframe thead th {\n",
       "        text-align: right;\n",
       "    }\n",
       "</style>\n",
       "<table border=\"1\" class=\"dataframe\">\n",
       "  <thead>\n",
       "    <tr style=\"text-align: right;\">\n",
       "      <th></th>\n",
       "      <th>ride_id</th>\n",
       "      <th>rideable_type</th>\n",
       "      <th>started_at</th>\n",
       "      <th>ended_at</th>\n",
       "      <th>start_station_name</th>\n",
       "      <th>start_station_id</th>\n",
       "      <th>end_station_name</th>\n",
       "      <th>end_station_id</th>\n",
       "      <th>start_lat</th>\n",
       "      <th>start_lng</th>\n",
       "      <th>end_lat</th>\n",
       "      <th>end_lng</th>\n",
       "      <th>member_casual</th>\n",
       "    </tr>\n",
       "  </thead>\n",
       "  <tbody>\n",
       "    <tr>\n",
       "      <th>0</th>\n",
       "      <td>000001F70CA28603</td>\n",
       "      <td>classic_bike</td>\n",
       "      <td>2024-09-21 22:14:43.346</td>\n",
       "      <td>2024-09-21 22:17:17.746</td>\n",
       "      <td>Peoria St &amp; Jackson Blvd</td>\n",
       "      <td>13158</td>\n",
       "      <td>900 W Harrison St</td>\n",
       "      <td>13028</td>\n",
       "      <td>41.877642</td>\n",
       "      <td>-87.649618</td>\n",
       "      <td>41.874754</td>\n",
       "      <td>-87.649807</td>\n",
       "      <td>member</td>\n",
       "    </tr>\n",
       "    <tr>\n",
       "      <th>1</th>\n",
       "      <td>0000033BAC7DD047</td>\n",
       "      <td>electric_bike</td>\n",
       "      <td>2024-09-02 11:52:27.631</td>\n",
       "      <td>2024-09-02 12:10:31.618</td>\n",
       "      <td>NaN</td>\n",
       "      <td>NaN</td>\n",
       "      <td>NaN</td>\n",
       "      <td>NaN</td>\n",
       "      <td>41.930000</td>\n",
       "      <td>-87.630000</td>\n",
       "      <td>41.910000</td>\n",
       "      <td>-87.650000</td>\n",
       "      <td>member</td>\n",
       "    </tr>\n",
       "    <tr>\n",
       "      <th>2</th>\n",
       "      <td>00000B15294F9057</td>\n",
       "      <td>electric_bike</td>\n",
       "      <td>2023-12-08 17:52:37</td>\n",
       "      <td>2023-12-08 18:00:54</td>\n",
       "      <td>NaN</td>\n",
       "      <td>NaN</td>\n",
       "      <td>NaN</td>\n",
       "      <td>NaN</td>\n",
       "      <td>41.900000</td>\n",
       "      <td>-87.750000</td>\n",
       "      <td>41.900000</td>\n",
       "      <td>-87.760000</td>\n",
       "      <td>casual</td>\n",
       "    </tr>\n",
       "    <tr>\n",
       "      <th>3</th>\n",
       "      <td>00001004F8DF01C8</td>\n",
       "      <td>classic_bike</td>\n",
       "      <td>2024-08-28 18:09:20.109</td>\n",
       "      <td>2024-08-28 18:17:08.324</td>\n",
       "      <td>Prairie Ave &amp; Garfield Blvd</td>\n",
       "      <td>TA1307000160</td>\n",
       "      <td>Woodlawn Ave &amp; 55th St</td>\n",
       "      <td>TA1307000164</td>\n",
       "      <td>41.794853</td>\n",
       "      <td>-87.618691</td>\n",
       "      <td>41.795264</td>\n",
       "      <td>-87.596471</td>\n",
       "      <td>casual</td>\n",
       "    </tr>\n",
       "    <tr>\n",
       "      <th>4</th>\n",
       "      <td>00001352515FD211</td>\n",
       "      <td>classic_bike</td>\n",
       "      <td>2024-09-10 17:01:40.767</td>\n",
       "      <td>2024-09-10 17:07:46.416</td>\n",
       "      <td>Calumet Ave &amp; 33rd St</td>\n",
       "      <td>13217</td>\n",
       "      <td>MLK Jr Dr &amp; 29th St</td>\n",
       "      <td>TA1307000139</td>\n",
       "      <td>41.834900</td>\n",
       "      <td>-87.617930</td>\n",
       "      <td>41.842052</td>\n",
       "      <td>-87.617000</td>\n",
       "      <td>member</td>\n",
       "    </tr>\n",
       "  </tbody>\n",
       "</table>\n",
       "</div>"
      ],
      "text/plain": [
       "            ride_id  rideable_type               started_at  \\\n",
       "0  000001F70CA28603   classic_bike  2024-09-21 22:14:43.346   \n",
       "1  0000033BAC7DD047  electric_bike  2024-09-02 11:52:27.631   \n",
       "2  00000B15294F9057  electric_bike      2023-12-08 17:52:37   \n",
       "3  00001004F8DF01C8   classic_bike  2024-08-28 18:09:20.109   \n",
       "4  00001352515FD211   classic_bike  2024-09-10 17:01:40.767   \n",
       "\n",
       "                  ended_at           start_station_name start_station_id  \\\n",
       "0  2024-09-21 22:17:17.746     Peoria St & Jackson Blvd            13158   \n",
       "1  2024-09-02 12:10:31.618                          NaN              NaN   \n",
       "2      2023-12-08 18:00:54                          NaN              NaN   \n",
       "3  2024-08-28 18:17:08.324  Prairie Ave & Garfield Blvd     TA1307000160   \n",
       "4  2024-09-10 17:07:46.416        Calumet Ave & 33rd St            13217   \n",
       "\n",
       "         end_station_name end_station_id  start_lat  start_lng    end_lat  \\\n",
       "0       900 W Harrison St          13028  41.877642 -87.649618  41.874754   \n",
       "1                     NaN            NaN  41.930000 -87.630000  41.910000   \n",
       "2                     NaN            NaN  41.900000 -87.750000  41.900000   \n",
       "3  Woodlawn Ave & 55th St   TA1307000164  41.794853 -87.618691  41.795264   \n",
       "4     MLK Jr Dr & 29th St   TA1307000139  41.834900 -87.617930  41.842052   \n",
       "\n",
       "     end_lng member_casual  \n",
       "0 -87.649807        member  \n",
       "1 -87.650000        member  \n",
       "2 -87.760000        casual  \n",
       "3 -87.596471        casual  \n",
       "4 -87.617000        member  "
      ]
     },
     "execution_count": 139,
     "metadata": {},
     "output_type": "execute_result"
    }
   ],
   "source": [
    "df_merged.head()"
   ]
  },
  {
   "cell_type": "code",
   "execution_count": 22,
   "id": "82dbab68-8ef6-41c2-89a1-2c2c5528bfed",
   "metadata": {},
   "outputs": [
    {
     "data": {
      "text/plain": [
       "(5906269, 13)"
      ]
     },
     "execution_count": 22,
     "metadata": {},
     "output_type": "execute_result"
    }
   ],
   "source": [
    "df_merged.shape"
   ]
  },
  {
   "cell_type": "code",
   "execution_count": 24,
   "id": "f735011d-9bd5-48e6-8f4f-e71e5d54b401",
   "metadata": {},
   "outputs": [
    {
     "data": {
      "text/plain": [
       "ride_id                     0\n",
       "rideable_type               0\n",
       "started_at                  0\n",
       "ended_at                    0\n",
       "start_station_name    1080470\n",
       "start_station_id      1080470\n",
       "end_station_name      1111801\n",
       "end_station_id        1111801\n",
       "start_lat                   0\n",
       "start_lng                   0\n",
       "end_lat                  7340\n",
       "end_lng                  7340\n",
       "member_casual               0\n",
       "dtype: int64"
      ]
     },
     "execution_count": 24,
     "metadata": {},
     "output_type": "execute_result"
    }
   ],
   "source": [
    "#Check for null values\n",
    "df_merged.isnull().sum()"
   ]
  },
  {
   "cell_type": "code",
   "execution_count": 26,
   "id": "31864c8d-0025-4202-8eb3-62a8deab683d",
   "metadata": {},
   "outputs": [],
   "source": [
    "#Remove all null values\n",
    "Cleaned_data=df_merged.dropna()"
   ]
  },
  {
   "cell_type": "code",
   "execution_count": 28,
   "id": "f068bfc6-08f4-4a31-9fe7-304023db80ce",
   "metadata": {},
   "outputs": [
    {
     "data": {
      "text/plain": [
       "ride_id               0\n",
       "rideable_type         0\n",
       "started_at            0\n",
       "ended_at              0\n",
       "start_station_name    0\n",
       "start_station_id      0\n",
       "end_station_name      0\n",
       "end_station_id        0\n",
       "start_lat             0\n",
       "start_lng             0\n",
       "end_lat               0\n",
       "end_lng               0\n",
       "member_casual         0\n",
       "dtype: int64"
      ]
     },
     "execution_count": 28,
     "metadata": {},
     "output_type": "execute_result"
    }
   ],
   "source": [
    "#Confirm that all the null have been cleaned out\n",
    "Cleaned_data.isnull().sum()"
   ]
  },
  {
   "cell_type": "code",
   "execution_count": 34,
   "id": "07d28a72-49ce-4d7d-8b5b-f8151b37ce44",
   "metadata": {},
   "outputs": [
    {
     "data": {
      "text/html": [
       "<div>\n",
       "<style scoped>\n",
       "    .dataframe tbody tr th:only-of-type {\n",
       "        vertical-align: middle;\n",
       "    }\n",
       "\n",
       "    .dataframe tbody tr th {\n",
       "        vertical-align: top;\n",
       "    }\n",
       "\n",
       "    .dataframe thead th {\n",
       "        text-align: right;\n",
       "    }\n",
       "</style>\n",
       "<table border=\"1\" class=\"dataframe\">\n",
       "  <thead>\n",
       "    <tr style=\"text-align: right;\">\n",
       "      <th></th>\n",
       "      <th>ride_id</th>\n",
       "      <th>rideable_type</th>\n",
       "      <th>started_at</th>\n",
       "      <th>ended_at</th>\n",
       "      <th>start_station_name</th>\n",
       "      <th>start_station_id</th>\n",
       "      <th>end_station_name</th>\n",
       "      <th>end_station_id</th>\n",
       "      <th>start_lat</th>\n",
       "      <th>start_lng</th>\n",
       "      <th>end_lat</th>\n",
       "      <th>end_lng</th>\n",
       "      <th>member_casual</th>\n",
       "    </tr>\n",
       "  </thead>\n",
       "  <tbody>\n",
       "    <tr>\n",
       "      <th>0</th>\n",
       "      <td>000001F70CA28603</td>\n",
       "      <td>classic_bike</td>\n",
       "      <td>2024-09-21 22:14:43.346</td>\n",
       "      <td>2024-09-21 22:17:17.746</td>\n",
       "      <td>Peoria St &amp; Jackson Blvd</td>\n",
       "      <td>13158</td>\n",
       "      <td>900 W Harrison St</td>\n",
       "      <td>13028</td>\n",
       "      <td>41.877642</td>\n",
       "      <td>-87.649618</td>\n",
       "      <td>41.874754</td>\n",
       "      <td>-87.649807</td>\n",
       "      <td>member</td>\n",
       "    </tr>\n",
       "    <tr>\n",
       "      <th>3</th>\n",
       "      <td>00001004F8DF01C8</td>\n",
       "      <td>classic_bike</td>\n",
       "      <td>2024-08-28 18:09:20.109</td>\n",
       "      <td>2024-08-28 18:17:08.324</td>\n",
       "      <td>Prairie Ave &amp; Garfield Blvd</td>\n",
       "      <td>TA1307000160</td>\n",
       "      <td>Woodlawn Ave &amp; 55th St</td>\n",
       "      <td>TA1307000164</td>\n",
       "      <td>41.794853</td>\n",
       "      <td>-87.618691</td>\n",
       "      <td>41.795264</td>\n",
       "      <td>-87.596471</td>\n",
       "      <td>casual</td>\n",
       "    </tr>\n",
       "    <tr>\n",
       "      <th>4</th>\n",
       "      <td>00001352515FD211</td>\n",
       "      <td>classic_bike</td>\n",
       "      <td>2024-09-10 17:01:40.767</td>\n",
       "      <td>2024-09-10 17:07:46.416</td>\n",
       "      <td>Calumet Ave &amp; 33rd St</td>\n",
       "      <td>13217</td>\n",
       "      <td>MLK Jr Dr &amp; 29th St</td>\n",
       "      <td>TA1307000139</td>\n",
       "      <td>41.834900</td>\n",
       "      <td>-87.617930</td>\n",
       "      <td>41.842052</td>\n",
       "      <td>-87.617000</td>\n",
       "      <td>member</td>\n",
       "    </tr>\n",
       "    <tr>\n",
       "      <th>5</th>\n",
       "      <td>000017F398759373</td>\n",
       "      <td>classic_bike</td>\n",
       "      <td>2024-08-08 15:16:36.808</td>\n",
       "      <td>2024-08-08 15:21:07.486</td>\n",
       "      <td>Western Ave &amp; Granville Ave</td>\n",
       "      <td>KA1504000129</td>\n",
       "      <td>Maplewood Ave &amp; Peterson Ave</td>\n",
       "      <td>KA1504000130</td>\n",
       "      <td>41.994161</td>\n",
       "      <td>-87.689438</td>\n",
       "      <td>41.990236</td>\n",
       "      <td>-87.693370</td>\n",
       "      <td>member</td>\n",
       "    </tr>\n",
       "    <tr>\n",
       "      <th>6</th>\n",
       "      <td>000018486CBEF63A</td>\n",
       "      <td>classic_bike</td>\n",
       "      <td>2024-05-07 20:11:53</td>\n",
       "      <td>2024-05-07 20:18:26</td>\n",
       "      <td>Wolcott Ave &amp; Polk St</td>\n",
       "      <td>TA1309000064</td>\n",
       "      <td>Western Ave &amp; Fillmore St</td>\n",
       "      <td>644</td>\n",
       "      <td>41.871262</td>\n",
       "      <td>-87.673688</td>\n",
       "      <td>41.868563</td>\n",
       "      <td>-87.686234</td>\n",
       "      <td>member</td>\n",
       "    </tr>\n",
       "  </tbody>\n",
       "</table>\n",
       "</div>"
      ],
      "text/plain": [
       "            ride_id rideable_type               started_at  \\\n",
       "0  000001F70CA28603  classic_bike  2024-09-21 22:14:43.346   \n",
       "3  00001004F8DF01C8  classic_bike  2024-08-28 18:09:20.109   \n",
       "4  00001352515FD211  classic_bike  2024-09-10 17:01:40.767   \n",
       "5  000017F398759373  classic_bike  2024-08-08 15:16:36.808   \n",
       "6  000018486CBEF63A  classic_bike      2024-05-07 20:11:53   \n",
       "\n",
       "                  ended_at           start_station_name start_station_id  \\\n",
       "0  2024-09-21 22:17:17.746     Peoria St & Jackson Blvd            13158   \n",
       "3  2024-08-28 18:17:08.324  Prairie Ave & Garfield Blvd     TA1307000160   \n",
       "4  2024-09-10 17:07:46.416        Calumet Ave & 33rd St            13217   \n",
       "5  2024-08-08 15:21:07.486  Western Ave & Granville Ave     KA1504000129   \n",
       "6      2024-05-07 20:18:26        Wolcott Ave & Polk St     TA1309000064   \n",
       "\n",
       "               end_station_name end_station_id  start_lat  start_lng  \\\n",
       "0             900 W Harrison St          13028  41.877642 -87.649618   \n",
       "3        Woodlawn Ave & 55th St   TA1307000164  41.794853 -87.618691   \n",
       "4           MLK Jr Dr & 29th St   TA1307000139  41.834900 -87.617930   \n",
       "5  Maplewood Ave & Peterson Ave   KA1504000130  41.994161 -87.689438   \n",
       "6     Western Ave & Fillmore St            644  41.871262 -87.673688   \n",
       "\n",
       "     end_lat    end_lng member_casual  \n",
       "0  41.874754 -87.649807        member  \n",
       "3  41.795264 -87.596471        casual  \n",
       "4  41.842052 -87.617000        member  \n",
       "5  41.990236 -87.693370        member  \n",
       "6  41.868563 -87.686234        member  "
      ]
     },
     "execution_count": 34,
     "metadata": {},
     "output_type": "execute_result"
    }
   ],
   "source": [
    "Cleaned_data.head()"
   ]
  },
  {
   "cell_type": "code",
   "execution_count": 36,
   "id": "8a8bccfa-bd6c-4b41-8ade-e96580d77c08",
   "metadata": {},
   "outputs": [
    {
     "data": {
      "text/plain": [
       "ride_id                object\n",
       "rideable_type          object\n",
       "started_at             object\n",
       "ended_at               object\n",
       "start_station_name     object\n",
       "start_station_id       object\n",
       "end_station_name       object\n",
       "end_station_id         object\n",
       "start_lat             float64\n",
       "start_lng             float64\n",
       "end_lat               float64\n",
       "end_lng               float64\n",
       "member_casual          object\n",
       "dtype: object"
      ]
     },
     "execution_count": 36,
     "metadata": {},
     "output_type": "execute_result"
    }
   ],
   "source": [
    "Cleaned_data.dtypes"
   ]
  },
  {
   "cell_type": "code",
   "execution_count": 199,
   "id": "6b59b6b9-f95c-4e5f-bc3e-91f2c9a8739c",
   "metadata": {},
   "outputs": [
    {
     "data": {
      "text/plain": [
       "(4244722, 10)"
      ]
     },
     "execution_count": 199,
     "metadata": {},
     "output_type": "execute_result"
    }
   ],
   "source": [
    "Cleaned_data.shape"
   ]
  },
  {
   "cell_type": "code",
   "execution_count": 38,
   "id": "ea5d2ee7-363d-4db9-876f-64bb0a0f0c32",
   "metadata": {},
   "outputs": [
    {
     "data": {
      "text/plain": [
       "0          False\n",
       "3          False\n",
       "4          False\n",
       "5          False\n",
       "6          False\n",
       "           ...  \n",
       "5906261    False\n",
       "5906264    False\n",
       "5906265    False\n",
       "5906266    False\n",
       "5906267    False\n",
       "Length: 4244722, dtype: bool"
      ]
     },
     "execution_count": 38,
     "metadata": {},
     "output_type": "execute_result"
    }
   ],
   "source": [
    "#look for duplicates and remove them\n",
    "Cleaned_data.duplicated()"
   ]
  },
  {
   "cell_type": "code",
   "execution_count": 164,
   "id": "795f09a4-364d-4920-9e09-d9cceb41e87e",
   "metadata": {},
   "outputs": [
    {
     "data": {
      "text/plain": [
       "0"
      ]
     },
     "execution_count": 164,
     "metadata": {},
     "output_type": "execute_result"
    }
   ],
   "source": [
    "#Check deeper to see if there is any duplicated items\n",
    "Cleaned_data.duplicated().sum()"
   ]
  },
  {
   "cell_type": "code",
   "execution_count": 56,
   "id": "b792a0a0-7056-4376-994e-f69ee35038fd",
   "metadata": {},
   "outputs": [],
   "source": [
    "#Check for spellings and correct them\n",
    "unique_values = Cleaned_data['member_casual'].unique()"
   ]
  },
  {
   "cell_type": "code",
   "execution_count": 60,
   "id": "c7d817b3-e3d8-4a11-8c69-be51de24fe7d",
   "metadata": {},
   "outputs": [
    {
     "name": "stdout",
     "output_type": "stream",
     "text": [
      "['member' 'casual']\n"
     ]
    }
   ],
   "source": [
    "print(unique_values)"
   ]
  },
  {
   "cell_type": "code",
   "execution_count": 64,
   "id": "d496d22a-bd29-4da3-beea-9e003de93035",
   "metadata": {},
   "outputs": [
    {
     "name": "stdout",
     "output_type": "stream",
     "text": [
      "Index(['rideable_type', 'started_at', 'ended_at', 'start_station_name',\n",
      "       'start_station_id', 'end_station_name', 'end_station_id',\n",
      "       'member_casual'],\n",
      "      dtype='object')\n"
     ]
    }
   ],
   "source": [
    "print(Cleaned_data.columns)"
   ]
  },
  {
   "cell_type": "code",
   "execution_count": 229,
   "id": "a5b16097-3190-4e71-bda4-22d55a9fc74e",
   "metadata": {},
   "outputs": [
    {
     "data": {
      "text/html": [
       "<div>\n",
       "<style scoped>\n",
       "    .dataframe tbody tr th:only-of-type {\n",
       "        vertical-align: middle;\n",
       "    }\n",
       "\n",
       "    .dataframe tbody tr th {\n",
       "        vertical-align: top;\n",
       "    }\n",
       "\n",
       "    .dataframe thead th {\n",
       "        text-align: right;\n",
       "    }\n",
       "</style>\n",
       "<table border=\"1\" class=\"dataframe\">\n",
       "  <thead>\n",
       "    <tr style=\"text-align: right;\">\n",
       "      <th></th>\n",
       "      <th>rideable_type</th>\n",
       "      <th>started_at</th>\n",
       "      <th>ended_at</th>\n",
       "      <th>start_station_name</th>\n",
       "      <th>start_station_id</th>\n",
       "      <th>end_station_name</th>\n",
       "      <th>end_station_id</th>\n",
       "      <th>member_casual</th>\n",
       "      <th>ride-length</th>\n",
       "      <th>ride-length-minutes</th>\n",
       "    </tr>\n",
       "  </thead>\n",
       "  <tbody>\n",
       "    <tr>\n",
       "      <th>0</th>\n",
       "      <td>classic_bike</td>\n",
       "      <td>2024-09-21 22:14:43.346</td>\n",
       "      <td>2024-09-21 22:17:17.746</td>\n",
       "      <td>Peoria St &amp; Jackson Blvd</td>\n",
       "      <td>13158</td>\n",
       "      <td>900 W Harrison St</td>\n",
       "      <td>13028</td>\n",
       "      <td>member</td>\n",
       "      <td>0 days 00:02:34.400000</td>\n",
       "      <td>2.573333</td>\n",
       "    </tr>\n",
       "    <tr>\n",
       "      <th>3</th>\n",
       "      <td>classic_bike</td>\n",
       "      <td>2024-08-28 18:09:20.109</td>\n",
       "      <td>2024-08-28 18:17:08.324</td>\n",
       "      <td>Prairie Ave &amp; Garfield Blvd</td>\n",
       "      <td>TA1307000160</td>\n",
       "      <td>Woodlawn Ave &amp; 55th St</td>\n",
       "      <td>TA1307000164</td>\n",
       "      <td>casual</td>\n",
       "      <td>0 days 00:07:48.215000</td>\n",
       "      <td>7.803583</td>\n",
       "    </tr>\n",
       "    <tr>\n",
       "      <th>4</th>\n",
       "      <td>classic_bike</td>\n",
       "      <td>2024-09-10 17:01:40.767</td>\n",
       "      <td>2024-09-10 17:07:46.416</td>\n",
       "      <td>Calumet Ave &amp; 33rd St</td>\n",
       "      <td>13217</td>\n",
       "      <td>MLK Jr Dr &amp; 29th St</td>\n",
       "      <td>TA1307000139</td>\n",
       "      <td>member</td>\n",
       "      <td>0 days 00:06:05.649000</td>\n",
       "      <td>6.094150</td>\n",
       "    </tr>\n",
       "    <tr>\n",
       "      <th>5</th>\n",
       "      <td>classic_bike</td>\n",
       "      <td>2024-08-08 15:16:36.808</td>\n",
       "      <td>2024-08-08 15:21:07.486</td>\n",
       "      <td>Western Ave &amp; Granville Ave</td>\n",
       "      <td>KA1504000129</td>\n",
       "      <td>Maplewood Ave &amp; Peterson Ave</td>\n",
       "      <td>KA1504000130</td>\n",
       "      <td>member</td>\n",
       "      <td>0 days 00:04:30.678000</td>\n",
       "      <td>4.511300</td>\n",
       "    </tr>\n",
       "    <tr>\n",
       "      <th>6</th>\n",
       "      <td>classic_bike</td>\n",
       "      <td>NaT</td>\n",
       "      <td>NaT</td>\n",
       "      <td>Wolcott Ave &amp; Polk St</td>\n",
       "      <td>TA1309000064</td>\n",
       "      <td>Western Ave &amp; Fillmore St</td>\n",
       "      <td>644</td>\n",
       "      <td>member</td>\n",
       "      <td>NaT</td>\n",
       "      <td>NaN</td>\n",
       "    </tr>\n",
       "  </tbody>\n",
       "</table>\n",
       "</div>"
      ],
      "text/plain": [
       "  rideable_type              started_at                ended_at  \\\n",
       "0  classic_bike 2024-09-21 22:14:43.346 2024-09-21 22:17:17.746   \n",
       "3  classic_bike 2024-08-28 18:09:20.109 2024-08-28 18:17:08.324   \n",
       "4  classic_bike 2024-09-10 17:01:40.767 2024-09-10 17:07:46.416   \n",
       "5  classic_bike 2024-08-08 15:16:36.808 2024-08-08 15:21:07.486   \n",
       "6  classic_bike                     NaT                     NaT   \n",
       "\n",
       "            start_station_name start_station_id              end_station_name  \\\n",
       "0     Peoria St & Jackson Blvd            13158             900 W Harrison St   \n",
       "3  Prairie Ave & Garfield Blvd     TA1307000160        Woodlawn Ave & 55th St   \n",
       "4        Calumet Ave & 33rd St            13217           MLK Jr Dr & 29th St   \n",
       "5  Western Ave & Granville Ave     KA1504000129  Maplewood Ave & Peterson Ave   \n",
       "6        Wolcott Ave & Polk St     TA1309000064     Western Ave & Fillmore St   \n",
       "\n",
       "  end_station_id member_casual            ride-length  ride-length-minutes  \n",
       "0          13028        member 0 days 00:02:34.400000             2.573333  \n",
       "3   TA1307000164        casual 0 days 00:07:48.215000             7.803583  \n",
       "4   TA1307000139        member 0 days 00:06:05.649000             6.094150  \n",
       "5   KA1504000130        member 0 days 00:04:30.678000             4.511300  \n",
       "6            644        member                    NaT                  NaN  "
      ]
     },
     "execution_count": 229,
     "metadata": {},
     "output_type": "execute_result"
    }
   ],
   "source": [
    "Cleaned_data.head()"
   ]
  },
  {
   "cell_type": "code",
   "execution_count": 241,
   "id": "034f14c4-618a-4134-b597-d54deea8e02c",
   "metadata": {},
   "outputs": [
    {
     "name": "stdout",
     "output_type": "stream",
     "text": [
      "Index(['rideable_type', 'started_at', 'ended_at', 'start_station_name',\n",
      "       'start_station_id', 'end_station_name', 'end_station_id',\n",
      "       'member_casual', 'ride-length', 'ride-length-minutes'],\n",
      "      dtype='object')\n"
     ]
    }
   ],
   "source": [
    "print(Cleaned_data.columns)"
   ]
  },
  {
   "cell_type": "code",
   "execution_count": 243,
   "id": "a1663a52-b2a7-48d5-8dd8-28b5284d9cce",
   "metadata": {},
   "outputs": [
    {
     "name": "stderr",
     "output_type": "stream",
     "text": [
      "C:\\Users\\hp\\AppData\\Local\\Temp\\ipykernel_10420\\4231449519.py:2: SettingWithCopyWarning: \n",
      "A value is trying to be set on a copy of a slice from a DataFrame.\n",
      "Try using .loc[row_indexer,col_indexer] = value instead\n",
      "\n",
      "See the caveats in the documentation: https://pandas.pydata.org/pandas-docs/stable/user_guide/indexing.html#returning-a-view-versus-a-copy\n",
      "  Cleaned_data['started_at'] = pd.to_datetime(Cleaned_data['started_at'], errors='coerce')\n",
      "C:\\Users\\hp\\AppData\\Local\\Temp\\ipykernel_10420\\4231449519.py:5: SettingWithCopyWarning: \n",
      "A value is trying to be set on a copy of a slice from a DataFrame.\n",
      "Try using .loc[row_indexer,col_indexer] = value instead\n",
      "\n",
      "See the caveats in the documentation: https://pandas.pydata.org/pandas-docs/stable/user_guide/indexing.html#returning-a-view-versus-a-copy\n",
      "  Cleaned_data['day_of_week'] = Cleaned_data['started_at'].dt.day_name()\n"
     ]
    }
   ],
   "source": [
    "# Convert started_at to datetime\n",
    "Cleaned_data['started_at'] = pd.to_datetime(Cleaned_data['started_at'], errors='coerce')\n",
    "\n",
    "# Extract day of the week\n",
    "Cleaned_data['day_of_week'] = Cleaned_data['started_at'].dt.day_name()"
   ]
  },
  {
   "cell_type": "code",
   "execution_count": 245,
   "id": "3c703b61-5ac3-45ac-a268-ac2a1c6f86b2",
   "metadata": {},
   "outputs": [
    {
     "data": {
      "text/html": [
       "<div>\n",
       "<style scoped>\n",
       "    .dataframe tbody tr th:only-of-type {\n",
       "        vertical-align: middle;\n",
       "    }\n",
       "\n",
       "    .dataframe tbody tr th {\n",
       "        vertical-align: top;\n",
       "    }\n",
       "\n",
       "    .dataframe thead th {\n",
       "        text-align: right;\n",
       "    }\n",
       "</style>\n",
       "<table border=\"1\" class=\"dataframe\">\n",
       "  <thead>\n",
       "    <tr style=\"text-align: right;\">\n",
       "      <th></th>\n",
       "      <th>rideable_type</th>\n",
       "      <th>started_at</th>\n",
       "      <th>ended_at</th>\n",
       "      <th>start_station_name</th>\n",
       "      <th>start_station_id</th>\n",
       "      <th>end_station_name</th>\n",
       "      <th>end_station_id</th>\n",
       "      <th>member_casual</th>\n",
       "      <th>ride-length</th>\n",
       "      <th>ride-length-minutes</th>\n",
       "      <th>day_of_week</th>\n",
       "    </tr>\n",
       "  </thead>\n",
       "  <tbody>\n",
       "    <tr>\n",
       "      <th>0</th>\n",
       "      <td>classic_bike</td>\n",
       "      <td>2024-09-21 22:14:43.346</td>\n",
       "      <td>2024-09-21 22:17:17.746</td>\n",
       "      <td>Peoria St &amp; Jackson Blvd</td>\n",
       "      <td>13158</td>\n",
       "      <td>900 W Harrison St</td>\n",
       "      <td>13028</td>\n",
       "      <td>member</td>\n",
       "      <td>0 days 00:02:34.400000</td>\n",
       "      <td>2.573333</td>\n",
       "      <td>Saturday</td>\n",
       "    </tr>\n",
       "    <tr>\n",
       "      <th>3</th>\n",
       "      <td>classic_bike</td>\n",
       "      <td>2024-08-28 18:09:20.109</td>\n",
       "      <td>2024-08-28 18:17:08.324</td>\n",
       "      <td>Prairie Ave &amp; Garfield Blvd</td>\n",
       "      <td>TA1307000160</td>\n",
       "      <td>Woodlawn Ave &amp; 55th St</td>\n",
       "      <td>TA1307000164</td>\n",
       "      <td>casual</td>\n",
       "      <td>0 days 00:07:48.215000</td>\n",
       "      <td>7.803583</td>\n",
       "      <td>Wednesday</td>\n",
       "    </tr>\n",
       "    <tr>\n",
       "      <th>4</th>\n",
       "      <td>classic_bike</td>\n",
       "      <td>2024-09-10 17:01:40.767</td>\n",
       "      <td>2024-09-10 17:07:46.416</td>\n",
       "      <td>Calumet Ave &amp; 33rd St</td>\n",
       "      <td>13217</td>\n",
       "      <td>MLK Jr Dr &amp; 29th St</td>\n",
       "      <td>TA1307000139</td>\n",
       "      <td>member</td>\n",
       "      <td>0 days 00:06:05.649000</td>\n",
       "      <td>6.094150</td>\n",
       "      <td>Tuesday</td>\n",
       "    </tr>\n",
       "    <tr>\n",
       "      <th>5</th>\n",
       "      <td>classic_bike</td>\n",
       "      <td>2024-08-08 15:16:36.808</td>\n",
       "      <td>2024-08-08 15:21:07.486</td>\n",
       "      <td>Western Ave &amp; Granville Ave</td>\n",
       "      <td>KA1504000129</td>\n",
       "      <td>Maplewood Ave &amp; Peterson Ave</td>\n",
       "      <td>KA1504000130</td>\n",
       "      <td>member</td>\n",
       "      <td>0 days 00:04:30.678000</td>\n",
       "      <td>4.511300</td>\n",
       "      <td>Thursday</td>\n",
       "    </tr>\n",
       "    <tr>\n",
       "      <th>6</th>\n",
       "      <td>classic_bike</td>\n",
       "      <td>NaT</td>\n",
       "      <td>NaT</td>\n",
       "      <td>Wolcott Ave &amp; Polk St</td>\n",
       "      <td>TA1309000064</td>\n",
       "      <td>Western Ave &amp; Fillmore St</td>\n",
       "      <td>644</td>\n",
       "      <td>member</td>\n",
       "      <td>NaT</td>\n",
       "      <td>NaN</td>\n",
       "      <td>NaN</td>\n",
       "    </tr>\n",
       "  </tbody>\n",
       "</table>\n",
       "</div>"
      ],
      "text/plain": [
       "  rideable_type              started_at                ended_at  \\\n",
       "0  classic_bike 2024-09-21 22:14:43.346 2024-09-21 22:17:17.746   \n",
       "3  classic_bike 2024-08-28 18:09:20.109 2024-08-28 18:17:08.324   \n",
       "4  classic_bike 2024-09-10 17:01:40.767 2024-09-10 17:07:46.416   \n",
       "5  classic_bike 2024-08-08 15:16:36.808 2024-08-08 15:21:07.486   \n",
       "6  classic_bike                     NaT                     NaT   \n",
       "\n",
       "            start_station_name start_station_id              end_station_name  \\\n",
       "0     Peoria St & Jackson Blvd            13158             900 W Harrison St   \n",
       "3  Prairie Ave & Garfield Blvd     TA1307000160        Woodlawn Ave & 55th St   \n",
       "4        Calumet Ave & 33rd St            13217           MLK Jr Dr & 29th St   \n",
       "5  Western Ave & Granville Ave     KA1504000129  Maplewood Ave & Peterson Ave   \n",
       "6        Wolcott Ave & Polk St     TA1309000064     Western Ave & Fillmore St   \n",
       "\n",
       "  end_station_id member_casual            ride-length  ride-length-minutes  \\\n",
       "0          13028        member 0 days 00:02:34.400000             2.573333   \n",
       "3   TA1307000164        casual 0 days 00:07:48.215000             7.803583   \n",
       "4   TA1307000139        member 0 days 00:06:05.649000             6.094150   \n",
       "5   KA1504000130        member 0 days 00:04:30.678000             4.511300   \n",
       "6            644        member                    NaT                  NaN   \n",
       "\n",
       "  day_of_week  \n",
       "0    Saturday  \n",
       "3   Wednesday  \n",
       "4     Tuesday  \n",
       "5    Thursday  \n",
       "6         NaN  "
      ]
     },
     "execution_count": 245,
     "metadata": {},
     "output_type": "execute_result"
    }
   ],
   "source": [
    "Cleaned_data.head()"
   ]
  },
  {
   "cell_type": "code",
   "execution_count": 406,
   "id": "f70324cb-54d5-497f-8404-64be1c367fc7",
   "metadata": {},
   "outputs": [
    {
     "name": "stdout",
     "output_type": "stream",
     "text": [
      "The most frequent start station by members is: Kingsbury St & Kinzie St\n"
     ]
    }
   ],
   "source": [
    "#the start station with the highest patronage by members\n",
    "start_station_member = Cleaned_data[Cleaned_data['member_casual'] == 'member']\n",
    "\n",
    "start_station_mode = start_station_member['start_station_name'].mode()[0]\n",
    "print ('The most frequent start station by members is:', start_station_mode)"
   ]
  },
  {
   "cell_type": "code",
   "execution_count": 417,
   "id": "0735bbaf-4843-4163-ad0c-6631e250d1df",
   "metadata": {},
   "outputs": [
    {
     "name": "stdout",
     "output_type": "stream",
     "text": [
      "start_station_name\n",
      "Kingsbury St & Kinzie St                   26777\n",
      "Clinton St & Washington Blvd               25373\n",
      "Clinton St & Madison St                    22786\n",
      "Clark St & Elm St                          22611\n",
      "Clinton St & Jackson Blvd                  18511\n",
      "                                           ...  \n",
      "Public Rack - Canty Elementary School          1\n",
      "Public Rack - Jeffery Blvd & 81st St           1\n",
      "Public Rack - 63rd & Western Ave S             1\n",
      "Public Rack - Christiana Ave & 111th St        1\n",
      "Public Rack - Calumet Ave & 103rd St           1\n",
      "Name: count, Length: 1742, dtype: int64\n"
     ]
    }
   ],
   "source": [
    "#Count the occurrences of start stations for members\n",
    "start_station_counts = member_start_station_data['start_station_name'].value_counts()\n",
    "print (start_station_counts)"
   ]
  },
  {
   "cell_type": "code",
   "execution_count": 419,
   "id": "1bbef5de-8b9e-4abe-b179-58df9d5a0459",
   "metadata": {},
   "outputs": [
    {
     "name": "stdout",
     "output_type": "stream",
     "text": [
      "The most frequent start station by members is: Streeter Dr & Grand Ave\n"
     ]
    }
   ],
   "source": [
    "#the start station with the highest patronage by casuals\n",
    "start_station_casual = Cleaned_data[Cleaned_data['member_casual'] == 'casual']\n",
    "\n",
    "start_station_mode1 = start_station_casual['start_station_name'].mode()[0]\n",
    "print ('The most frequent start station by members is:', start_station_mode1)"
   ]
  },
  {
   "cell_type": "code",
   "execution_count": 425,
   "id": "0ecb0fa8-a7d7-4d12-bedd-be9b839511be",
   "metadata": {},
   "outputs": [
    {
     "name": "stdout",
     "output_type": "stream",
     "text": [
      "start_station_name\n",
      "Streeter Dr & Grand Ave                       48411\n",
      "DuSable Lake Shore Dr & Monroe St             32237\n",
      "Michigan Ave & Oak St                         23377\n",
      "DuSable Lake Shore Dr & North Blvd            21378\n",
      "Millennium Park                               20939\n",
      "                                              ...  \n",
      "Public Rack - N Sayre Ave & W Belden Ave          1\n",
      "Public Rack - Oak Park Ave & Foster Ave           1\n",
      "Public Rack - Cottage Grove Ave & 87th St         1\n",
      "Public Rack - Central Park Ave & Ogden Ave        1\n",
      "Public Rack - Springfield Ave & 63rd St           1\n",
      "Name: count, Length: 1563, dtype: int64\n"
     ]
    }
   ],
   "source": [
    "#Count the occurrences of start stations for casual\n",
    "start_station_counts = start_station_casual['start_station_name'].value_counts()\n",
    "print (start_station_counts)"
   ]
  },
  {
   "cell_type": "code",
   "execution_count": 429,
   "id": "3fb8bdf2-68cc-4490-be41-b9302d7454e7",
   "metadata": {},
   "outputs": [
    {
     "data": {
      "text/plain": [
       "<Axes: xlabel='start_station_name'>"
      ]
     },
     "execution_count": 429,
     "metadata": {},
     "output_type": "execute_result"
    },
    {
     "data": {
      "image/png": "[encoded data removed]",
      "text/plain": [
       "<Figure size 640x480 with 1 Axes>"
      ]
     },
     "metadata": {},
     "output_type": "display_data"
    }
   ],
   "source": [
    "#Plot the top 10 start stations\n",
    "top_10_start_stations = start_station_counts.head(10)\n",
    "top_10_start_stations.groupby(['start_station_name']).size().plot(kind='bar', stacked=True)"
   ]
  },
  {
   "cell_type": "code",
   "execution_count": 433,
   "id": "0149d471-3998-493a-9e02-8dde4ef85cb0",
   "metadata": {},
   "outputs": [
    {
     "data": {
      "text/plain": [
       "<Axes: xlabel='start_station_name'>"
      ]
     },
     "execution_count": 433,
     "metadata": {},
     "output_type": "execute_result"
    },
    {
     "data": {
      "image/png": "[encoded data removed]",
      "text/plain": [
       "<Figure size 640x480 with 1 Axes>"
      ]
     },
     "metadata": {},
     "output_type": "display_data"
    }
   ],
   "source": [
    "#Plot the top 10 least start stations\n",
    "top_10_start_stations = start_station_counts.tail(10)\n",
    "top_10_start_stations.groupby(['start_station_name']).size().plot(kind='bar', stacked=True)"
   ]
  },
  {
   "cell_type": "code",
   "execution_count": 258,
   "id": "e651c912-e486-4fe5-bb56-053a12f398e9",
   "metadata": {},
   "outputs": [],
   "source": [
    "Cleaned_df=Cleaned_data.dropna()"
   ]
  },
  {
   "cell_type": "code",
   "execution_count": 260,
   "id": "3b523fea-b7e4-4f4a-81ef-e86015a48f71",
   "metadata": {},
   "outputs": [
    {
     "data": {
      "text/plain": [
       "rideable_type          0\n",
       "started_at             0\n",
       "ended_at               0\n",
       "start_station_name     0\n",
       "start_station_id       0\n",
       "end_station_name       0\n",
       "end_station_id         0\n",
       "member_casual          0\n",
       "ride-length            0\n",
       "ride-length-minutes    0\n",
       "day_of_week            0\n",
       "dtype: int64"
      ]
     },
     "execution_count": 260,
     "metadata": {},
     "output_type": "execute_result"
    }
   ],
   "source": [
    "Cleaned_df.isnull().sum()"
   ]
  },
  {
   "cell_type": "code",
   "execution_count": 314,
   "id": "e76df2d5-a281-4d76-aede-a6fc86838c83",
   "metadata": {},
   "outputs": [
    {
     "data": {
      "text/html": [
       "<div>\n",
       "<style scoped>\n",
       "    .dataframe tbody tr th:only-of-type {\n",
       "        vertical-align: middle;\n",
       "    }\n",
       "\n",
       "    .dataframe tbody tr th {\n",
       "        vertical-align: top;\n",
       "    }\n",
       "\n",
       "    .dataframe thead th {\n",
       "        text-align: right;\n",
       "    }\n",
       "</style>\n",
       "<table border=\"1\" class=\"dataframe\">\n",
       "  <thead>\n",
       "    <tr style=\"text-align: right;\">\n",
       "      <th></th>\n",
       "      <th>rideable_type</th>\n",
       "      <th>started_at</th>\n",
       "      <th>ended_at</th>\n",
       "      <th>start_station_name</th>\n",
       "      <th>start_station_id</th>\n",
       "      <th>end_station_name</th>\n",
       "      <th>end_station_id</th>\n",
       "      <th>member_casual</th>\n",
       "      <th>ride-length</th>\n",
       "      <th>ride-length-minutes</th>\n",
       "      <th>day_of_week</th>\n",
       "    </tr>\n",
       "  </thead>\n",
       "  <tbody>\n",
       "    <tr>\n",
       "      <th>0</th>\n",
       "      <td>classic_bike</td>\n",
       "      <td>2024-09-21 22:14:43.346</td>\n",
       "      <td>2024-09-21 22:17:17.746</td>\n",
       "      <td>Peoria St &amp; Jackson Blvd</td>\n",
       "      <td>13158</td>\n",
       "      <td>900 W Harrison St</td>\n",
       "      <td>13028</td>\n",
       "      <td>member</td>\n",
       "      <td>0 days 00:02:34.400000</td>\n",
       "      <td>2.573333</td>\n",
       "      <td>Saturday</td>\n",
       "    </tr>\n",
       "    <tr>\n",
       "      <th>3</th>\n",
       "      <td>classic_bike</td>\n",
       "      <td>2024-08-28 18:09:20.109</td>\n",
       "      <td>2024-08-28 18:17:08.324</td>\n",
       "      <td>Prairie Ave &amp; Garfield Blvd</td>\n",
       "      <td>TA1307000160</td>\n",
       "      <td>Woodlawn Ave &amp; 55th St</td>\n",
       "      <td>TA1307000164</td>\n",
       "      <td>casual</td>\n",
       "      <td>0 days 00:07:48.215000</td>\n",
       "      <td>7.803583</td>\n",
       "      <td>Wednesday</td>\n",
       "    </tr>\n",
       "  </tbody>\n",
       "</table>\n",
       "</div>"
      ],
      "text/plain": [
       "  rideable_type              started_at                ended_at  \\\n",
       "0  classic_bike 2024-09-21 22:14:43.346 2024-09-21 22:17:17.746   \n",
       "3  classic_bike 2024-08-28 18:09:20.109 2024-08-28 18:17:08.324   \n",
       "\n",
       "            start_station_name start_station_id        end_station_name  \\\n",
       "0     Peoria St & Jackson Blvd            13158       900 W Harrison St   \n",
       "3  Prairie Ave & Garfield Blvd     TA1307000160  Woodlawn Ave & 55th St   \n",
       "\n",
       "  end_station_id member_casual            ride-length  ride-length-minutes  \\\n",
       "0          13028        member 0 days 00:02:34.400000             2.573333   \n",
       "3   TA1307000164        casual 0 days 00:07:48.215000             7.803583   \n",
       "\n",
       "  day_of_week  \n",
       "0    Saturday  \n",
       "3   Wednesday  "
      ]
     },
     "execution_count": 314,
     "metadata": {},
     "output_type": "execute_result"
    }
   ],
   "source": [
    "Cleaned_df.head(2)"
   ]
  },
  {
   "cell_type": "code",
   "execution_count": 382,
   "id": "66376874-a3f3-4afc-9f6f-2a7a0c45b503",
   "metadata": {},
   "outputs": [
    {
     "data": {
      "text/plain": [
       "<Axes: xlabel='day_of_week'>"
      ]
     },
     "execution_count": 382,
     "metadata": {},
     "output_type": "execute_result"
    },
    {
     "data": {
      "image/png": "[encoded data removed]",
      "text/plain": [
       "<Figure size 640x480 with 1 Axes>"
      ]
     },
     "metadata": {},
     "output_type": "display_data"
    }
   ],
   "source": [
    "Cleaned_df.groupby(['day_of_week']).size().plot(kind='bar', stacked=True)"
   ]
  },
  {
   "cell_type": "code",
   "execution_count": 266,
   "id": "1a045cd9-0fdc-407e-883b-dd1bd20cdbd1",
   "metadata": {},
   "outputs": [
    {
     "name": "stdout",
     "output_type": "stream",
     "text": [
      "Index(['rideable_type', 'started_at', 'ended_at', 'start_station_name',\n",
      "       'start_station_id', 'end_station_name', 'end_station_id',\n",
      "       'member_casual', 'ride-length', 'ride-length-minutes', 'day_of_week'],\n",
      "      dtype='object')\n"
     ]
    }
   ],
   "source": [
    "print (Cleaned_df.columns)"
   ]
  },
  {
   "cell_type": "code",
   "execution_count": 342,
   "id": "7cb19208-96c7-462e-8eb9-807d9c1c84ee",
   "metadata": {},
   "outputs": [
    {
     "name": "stdout",
     "output_type": "stream",
     "text": [
      "The most common day for all the riders is:  Saturday\n"
     ]
    }
   ],
   "source": [
    "day_mode = Cleaned_df['day_of_week'].mode()[0]\n",
    "print ('The most common day for all the riders is: ',day_mode)"
   ]
  },
  {
   "cell_type": "code",
   "execution_count": 338,
   "id": "875475bf-7ef5-4fd1-b4f8-f278ea5ef072",
   "metadata": {},
   "outputs": [
    {
     "name": "stdout",
     "output_type": "stream",
     "text": [
      "The most common day of the week for casual members is: Saturday\n"
     ]
    }
   ],
   "source": [
    "# Filter for 'casual' members\n",
    "casual_data = Cleaned_df[Cleaned_df['member_casual'] == 'casual']\n",
    "\n",
    "# Get the mode of the 'day_of_week' column\n",
    "day_mode_casual = casual_data['day_of_week'].mode()[0]\n",
    "\n",
    "# Print the most common day\n",
    "print(\"The most common day of the week for casual members is:\", day_mode_casual)"
   ]
  },
  {
   "cell_type": "code",
   "execution_count": 330,
   "id": "f9d81800-596d-466c-8cd4-89216986d208",
   "metadata": {},
   "outputs": [
    {
     "data": {
      "text/plain": [
       "Timedelta('0 days 00:17:15.273264373')"
      ]
     },
     "execution_count": 330,
     "metadata": {},
     "output_type": "execute_result"
    }
   ],
   "source": [
    "Cleaned_df['ride-length'].mean()"
   ]
  },
  {
   "cell_type": "code",
   "execution_count": 358,
   "id": "32e5015e-d0c1-4f3f-a3e8-936003b82e7e",
   "metadata": {},
   "outputs": [
    {
     "name": "stdout",
     "output_type": "stream",
     "text": [
      "The maximum ride length in minutes for members is: 24.931963055555556\n"
     ]
    }
   ],
   "source": [
    "#Find out the maximum time members have spent in riding\n",
    "member_data_max= Cleaned_df[Cleaned_df['member_casual'] =='member']\n",
    "\n",
    "member_data_max1 = member_data_max['ride-length-minutes'].max()/60\n",
    "print('The maximum ride length in minutes for members is:', member_data_max1)"
   ]
  },
  {
   "cell_type": "code",
   "execution_count": 362,
   "id": "668cc224-7570-4d9e-84a7-92b297f7f92c",
   "metadata": {},
   "outputs": [
    {
     "name": "stdout",
     "output_type": "stream",
     "text": [
      "The minimum ride length in minutes for members is: -0.9237616666666667\n"
     ]
    }
   ],
   "source": [
    "#Find out the minimum time members have spent in riding\n",
    "member_data_min= Cleaned_df[Cleaned_df['member_casual'] =='member']\n",
    "\n",
    "member_data_min1 = member_data_max['ride-length-minutes'].min()/60\n",
    "print('The minimum ride length in minutes for members is:', member_data_min1)"
   ]
  },
  {
   "cell_type": "code",
   "execution_count": 378,
   "id": "390b110d-b66a-4880-a911-14187a024505",
   "metadata": {},
   "outputs": [
    {
     "name": "stdout",
     "output_type": "stream",
     "text": [
      "The average ride length in minutes for members is: 12.699154540051737\n"
     ]
    }
   ],
   "source": [
    "#Find out the average time members have spent in riding\n",
    "member_data_avg= Cleaned_df[Cleaned_df['member_casual'] =='member']\n",
    "\n",
    "member_data_avg1 = member_data_avg['ride-length-minutes'].mean()\n",
    "print('The average ride length in minutes for members is:', member_data_avg1)"
   ]
  },
  {
   "cell_type": "code",
   "execution_count": 360,
   "id": "f0fbacc4-749d-4ddc-8926-08d8cb11ff21",
   "metadata": {},
   "outputs": [
    {
     "name": "stdout",
     "output_type": "stream",
     "text": [
      "The maximum ride length in minutes for casual is: 24.973914999999998\n"
     ]
    }
   ],
   "source": [
    "#Find out the maximum time casual have spent in riding\n",
    "casual_data_max= Cleaned_df[Cleaned_df['member_casual'] =='casual']\n",
    "\n",
    "casual_data_max1 = casual_data_max['ride-length-minutes'].max()/60\n",
    "print('The maximum ride length in minutes for casual is:', casual_data_max1)"
   ]
  },
  {
   "cell_type": "code",
   "execution_count": 364,
   "id": "14982d4a-ea0b-4cfb-a16e-532ff8d02350",
   "metadata": {},
   "outputs": [
    {
     "name": "stdout",
     "output_type": "stream",
     "text": [
      "The minimum ride length in minutes for casual is: -0.9130108333333333\n"
     ]
    }
   ],
   "source": [
    "#Find out the maximum time casual have spent in riding\n",
    "casual_data_min= Cleaned_df[Cleaned_df['member_casual'] =='casual']\n",
    "\n",
    "casual_data_min1 = casual_data_min['ride-length-minutes'].min()/60\n",
    "print('The minimum ride length in minutes for casual is:', casual_data_min1)"
   ]
  },
  {
   "cell_type": "code",
   "execution_count": 380,
   "id": "0e00741b-665c-400e-b4cd-f6d0425f9d41",
   "metadata": {},
   "outputs": [
    {
     "name": "stdout",
     "output_type": "stream",
     "text": [
      "The average ride length in minutes for casual is: 24.192503525958585\n"
     ]
    }
   ],
   "source": [
    "#Find out the average time casual have spent in riding\n",
    "casual_data_avg= Cleaned_df[Cleaned_df['member_casual'] =='casual']\n",
    "\n",
    "casual_data_avg1 = casual_data_min['ride-length-minutes'].mean()\n",
    "print('The average ride length in minutes for casual is:', casual_data_avg1)"
   ]
  },
  {
   "cell_type": "code",
   "execution_count": 384,
   "id": "9ef8d565-1d99-4f08-8482-85d1a18fd01a",
   "metadata": {},
   "outputs": [
    {
     "data": {
      "text/plain": [
       "<Axes: xlabel='day_of_week'>"
      ]
     },
     "execution_count": 384,
     "metadata": {},
     "output_type": "execute_result"
    },
    {
     "data": {
      "image/png": "[encoded data removed]",
      "text/plain": [
       "<Figure size 640x480 with 1 Axes>"
      ]
     },
     "metadata": {},
     "output_type": "display_data"
    }
   ],
   "source": [
    "#Plot the days of the week used by members\n",
    "member_data_max.groupby(['day_of_week']).size().plot(kind='bar', stacked=True)"
   ]
  },
  {
   "cell_type": "code",
   "execution_count": 386,
   "id": "424b70aa-5e19-4137-8b7d-4b3c6a46546f",
   "metadata": {},
   "outputs": [
    {
     "data": {
      "text/plain": [
       "<Axes: xlabel='day_of_week'>"
      ]
     },
     "execution_count": 386,
     "metadata": {},
     "output_type": "execute_result"
    },
    {
     "data": {
      "image/png": "[encoded data removed]",
      "text/plain": [
       "<Figure size 640x480 with 1 Axes>"
      ]
     },
     "metadata": {},
     "output_type": "display_data"
    }
   ],
   "source": [
    "casual_data_max.groupby(['day_of_week']).size().plot(kind='bar', stacked=True)"
   ]
  },
  {
   "cell_type": "code",
   "execution_count": 304,
   "id": "67c3b1c4-53fc-49e0-ba55-6e96d2a51207",
   "metadata": {},
   "outputs": [
    {
     "name": "stdout",
     "output_type": "stream",
     "text": [
      "Numerical Summary:\n",
      "                           started_at                       ended_at  \\\n",
      "count                        2808791                        2808791   \n",
      "mean   2024-08-23 01:47:39.195295744  2024-08-23 02:04:54.468558336   \n",
      "min       2024-05-31 11:49:34.737000     2024-06-01 00:00:02.288000   \n",
      "25%    2024-07-13 14:39:08.410500096  2024-07-13 15:02:55.892999936   \n",
      "50%       2024-08-22 10:10:33.896000  2024-08-22 10:28:00.459000064   \n",
      "75%    2024-09-30 16:33:28.254500096  2024-09-30 16:47:56.849499904   \n",
      "max       2024-11-30 23:50:53.449000     2024-11-30 23:57:43.002000   \n",
      "std                              NaN                            NaN   \n",
      "\n",
      "                     ride-length  ride-length-minutes  \n",
      "count                    2808791         2.808791e+06  \n",
      "mean   0 days 00:17:15.273264373         1.725455e+01  \n",
      "min     -1 days +23:04:34.458000        -5.542570e+01  \n",
      "25%       0 days 00:06:05.505000         6.091750e+00  \n",
      "50%       0 days 00:10:34.510000         1.057517e+01  \n",
      "75%       0 days 00:18:56.129500         1.893549e+01  \n",
      "max       1 days 00:58:26.094000         1.498435e+03  \n",
      "std    0 days 00:35:20.947410353         3.534912e+01  \n",
      "\n",
      "Categorical Summary:\n",
      "        rideable_type       start_station_name start_station_id  \\\n",
      "count        2808791                  2808791          2808791   \n",
      "unique             3                     1743             1672   \n",
      "top     classic_bike  Streeter Dr & Grand Ave            13022   \n",
      "freq         1799539                    45981            45981   \n",
      "\n",
      "               end_station_name end_station_id member_casual day_of_week  \n",
      "count                   2808791        2808791       2808791     2808791  \n",
      "unique                     1751           1676             2           7  \n",
      "top     Streeter Dr & Grand Ave          13022        member    Saturday  \n",
      "freq                      47382          47382       1695524      448333  \n"
     ]
    }
   ],
   "source": [
    "# Summary statistics for numerical columns\n",
    "numerical_summary = Cleaned_df.describe()\n",
    "\n",
    "# Summary statistics for categorical columns\n",
    "categorical_summary = Cleaned_df.describe(include=['object'])\n",
    "\n",
    "# Display the results\n",
    "print(\"Numerical Summary:\\n\", numerical_summary)\n",
    "print(\"\\nCategorical Summary:\\n\", categorical_summary)"
   ]
  },
  {
   "cell_type": "code",
   "execution_count": 256,
   "id": "ef96d3da-13e6-418d-81f8-e8c291cd3e48",
   "metadata": {},
   "outputs": [
    {
     "data": {
      "text/plain": [
       "rideable_type                0\n",
       "started_at             1435931\n",
       "ended_at               1435931\n",
       "start_station_name           0\n",
       "start_station_id             0\n",
       "end_station_name             0\n",
       "end_station_id               0\n",
       "member_casual                0\n",
       "ride-length            1435931\n",
       "ride-length-minutes    1435931\n",
       "day_of_week            1435931\n",
       "dtype: int64"
      ]
     },
     "execution_count": 256,
     "metadata": {},
     "output_type": "execute_result"
    }
   ],
   "source": [
    "Cleaned_data.isnull().sum()"
   ]
  },
  {
   "cell_type": "code",
   "execution_count": 70,
   "id": "78b9935c-b5a5-4f12-a56a-3595651a1921",
   "metadata": {},
   "outputs": [
    {
     "name": "stderr",
     "output_type": "stream",
     "text": [
      "C:\\Users\\hp\\AppData\\Local\\Temp\\ipykernel_10420\\4251452115.py:3: SettingWithCopyWarning: \n",
      "A value is trying to be set on a copy of a slice from a DataFrame.\n",
      "Try using .loc[row_indexer,col_indexer] = value instead\n",
      "\n",
      "See the caveats in the documentation: https://pandas.pydata.org/pandas-docs/stable/user_guide/indexing.html#returning-a-view-versus-a-copy\n",
      "  Cleaned_data['started_at'] = pd.to_datetime(Cleaned_data['started_at'], errors='coerce')\n",
      "C:\\Users\\hp\\AppData\\Local\\Temp\\ipykernel_10420\\4251452115.py:4: SettingWithCopyWarning: \n",
      "A value is trying to be set on a copy of a slice from a DataFrame.\n",
      "Try using .loc[row_indexer,col_indexer] = value instead\n",
      "\n",
      "See the caveats in the documentation: https://pandas.pydata.org/pandas-docs/stable/user_guide/indexing.html#returning-a-view-versus-a-copy\n",
      "  Cleaned_data['ended_at'] = pd.to_datetime(Cleaned_data['ended_at'], errors='coerce')\n"
     ]
    }
   ],
   "source": [
    "#Due to the inconsistencies in the format, the \"coerce errors\" was applied.\n",
    "# Convert to datetime and handle errors\n",
    "Cleaned_data['started_at'] = pd.to_datetime(Cleaned_data['started_at'], errors='coerce')\n",
    "Cleaned_data['ended_at'] = pd.to_datetime(Cleaned_data['ended_at'], errors='coerce')"
   ]
  },
  {
   "cell_type": "code",
   "execution_count": 197,
   "id": "880a33c5-d5fa-418d-943b-85fd19a0d628",
   "metadata": {},
   "outputs": [
    {
     "name": "stdout",
     "output_type": "stream",
     "text": [
      "Invalid rows:\n",
      "         rideable_type started_at ended_at  \\\n",
      "6         classic_bike        NaT      NaT   \n",
      "8        electric_bike        NaT      NaT   \n",
      "13        classic_bike        NaT      NaT   \n",
      "14       electric_bike        NaT      NaT   \n",
      "18        classic_bike        NaT      NaT   \n",
      "...                ...        ...      ...   \n",
      "5906248  electric_bike        NaT      NaT   \n",
      "5906250   classic_bike        NaT      NaT   \n",
      "5906256   classic_bike        NaT      NaT   \n",
      "5906266   classic_bike        NaT      NaT   \n",
      "5906267   classic_bike        NaT      NaT   \n",
      "\n",
      "                          start_station_name start_station_id  \\\n",
      "6                      Wolcott Ave & Polk St     TA1309000064   \n",
      "8                         May St & Taylor St            13160   \n",
      "13                      Morgan St & Lake St*     chargingstx4   \n",
      "14                  Kingsbury St & Kinzie St     KA1503000043   \n",
      "18                     Green St & Madison St     TA1307000120   \n",
      "...                                      ...              ...   \n",
      "5906248           Indiana Ave & Roosevelt Rd           SL-005   \n",
      "5906250  Mies van der Rohe Way & Chicago Ave            13338   \n",
      "5906256        Financial Pl & Ida B Wells Dr           SL-010   \n",
      "5906266             Kingsbury St & Kinzie St     KA1503000043   \n",
      "5906267              Clinton St & Madison St     TA1305000032   \n",
      "\n",
      "                     end_station_name end_station_id member_casual  \n",
      "6           Western Ave & Fillmore St            644        member  \n",
      "8                Racine Ave & 15th St          13304        member  \n",
      "13               Broadway & Barry Ave          13137        member  \n",
      "14       Clinton St & Washington Blvd         WL-012        member  \n",
      "18                       Eckhart Park          13289        member  \n",
      "...                               ...            ...           ...  \n",
      "5906248           Theater on the Lake   TA1308000001        casual  \n",
      "5906250             Wells St & Elm St   KA1504000135        member  \n",
      "5906256            May St & Taylor St          13160        member  \n",
      "5906266  Racine Ave & Washington Blvd            654        member  \n",
      "5906267      Paulina St & Flournoy St   KA1504000104        member  \n",
      "\n",
      "[1435931 rows x 8 columns]\n"
     ]
    }
   ],
   "source": [
    "# Check for rows with invalid datetime entries\n",
    "invalid_rows = Cleaned_data[Cleaned_data['started_at'].isna() | Cleaned_data['ended_at'].isna()]\n",
    "print(\"Invalid rows:\")\n",
    "print(invalid_rows)"
   ]
  },
  {
   "cell_type": "code",
   "execution_count": 72,
   "id": "a43ff200-0101-4393-a674-a16c10b255a1",
   "metadata": {},
   "outputs": [
    {
     "name": "stderr",
     "output_type": "stream",
     "text": [
      "C:\\Users\\hp\\AppData\\Local\\Temp\\ipykernel_10420\\1313196602.py:2: SettingWithCopyWarning: \n",
      "A value is trying to be set on a copy of a slice from a DataFrame.\n",
      "Try using .loc[row_indexer,col_indexer] = value instead\n",
      "\n",
      "See the caveats in the documentation: https://pandas.pydata.org/pandas-docs/stable/user_guide/indexing.html#returning-a-view-versus-a-copy\n",
      "  Cleaned_data['ride-length'] = Cleaned_data['ended_at'] - Cleaned_data['started_at']\n",
      "C:\\Users\\hp\\AppData\\Local\\Temp\\ipykernel_10420\\1313196602.py:3: SettingWithCopyWarning: \n",
      "A value is trying to be set on a copy of a slice from a DataFrame.\n",
      "Try using .loc[row_indexer,col_indexer] = value instead\n",
      "\n",
      "See the caveats in the documentation: https://pandas.pydata.org/pandas-docs/stable/user_guide/indexing.html#returning-a-view-versus-a-copy\n",
      "  Cleaned_data['ride-length-minutes'] = Cleaned_data['ride-length'].dt.total_seconds() / 60\n"
     ]
    }
   ],
   "source": [
    "# I Calculated the ride-length\n",
    "Cleaned_data['ride-length'] = Cleaned_data['ended_at'] - Cleaned_data['started_at']\n",
    "Cleaned_data['ride-length-minutes'] = Cleaned_data['ride-length'].dt.total_seconds() / 60"
   ]
  },
  {
   "cell_type": "code",
   "execution_count": 74,
   "id": "e99fdda9-5a5c-45b9-ac62-9d8a13c2fd7e",
   "metadata": {},
   "outputs": [
    {
     "data": {
      "text/html": [
       "<div>\n",
       "<style scoped>\n",
       "    .dataframe tbody tr th:only-of-type {\n",
       "        vertical-align: middle;\n",
       "    }\n",
       "\n",
       "    .dataframe tbody tr th {\n",
       "        vertical-align: top;\n",
       "    }\n",
       "\n",
       "    .dataframe thead th {\n",
       "        text-align: right;\n",
       "    }\n",
       "</style>\n",
       "<table border=\"1\" class=\"dataframe\">\n",
       "  <thead>\n",
       "    <tr style=\"text-align: right;\">\n",
       "      <th></th>\n",
       "      <th>rideable_type</th>\n",
       "      <th>started_at</th>\n",
       "      <th>ended_at</th>\n",
       "      <th>start_station_name</th>\n",
       "      <th>start_station_id</th>\n",
       "      <th>end_station_name</th>\n",
       "      <th>end_station_id</th>\n",
       "      <th>member_casual</th>\n",
       "      <th>ride-length</th>\n",
       "      <th>ride-length-minutes</th>\n",
       "    </tr>\n",
       "  </thead>\n",
       "  <tbody>\n",
       "    <tr>\n",
       "      <th>0</th>\n",
       "      <td>classic_bike</td>\n",
       "      <td>2024-09-21 22:14:43.346</td>\n",
       "      <td>2024-09-21 22:17:17.746</td>\n",
       "      <td>Peoria St &amp; Jackson Blvd</td>\n",
       "      <td>13158</td>\n",
       "      <td>900 W Harrison St</td>\n",
       "      <td>13028</td>\n",
       "      <td>member</td>\n",
       "      <td>0 days 00:02:34.400000</td>\n",
       "      <td>2.573333</td>\n",
       "    </tr>\n",
       "    <tr>\n",
       "      <th>3</th>\n",
       "      <td>classic_bike</td>\n",
       "      <td>2024-08-28 18:09:20.109</td>\n",
       "      <td>2024-08-28 18:17:08.324</td>\n",
       "      <td>Prairie Ave &amp; Garfield Blvd</td>\n",
       "      <td>TA1307000160</td>\n",
       "      <td>Woodlawn Ave &amp; 55th St</td>\n",
       "      <td>TA1307000164</td>\n",
       "      <td>casual</td>\n",
       "      <td>0 days 00:07:48.215000</td>\n",
       "      <td>7.803583</td>\n",
       "    </tr>\n",
       "    <tr>\n",
       "      <th>4</th>\n",
       "      <td>classic_bike</td>\n",
       "      <td>2024-09-10 17:01:40.767</td>\n",
       "      <td>2024-09-10 17:07:46.416</td>\n",
       "      <td>Calumet Ave &amp; 33rd St</td>\n",
       "      <td>13217</td>\n",
       "      <td>MLK Jr Dr &amp; 29th St</td>\n",
       "      <td>TA1307000139</td>\n",
       "      <td>member</td>\n",
       "      <td>0 days 00:06:05.649000</td>\n",
       "      <td>6.094150</td>\n",
       "    </tr>\n",
       "    <tr>\n",
       "      <th>5</th>\n",
       "      <td>classic_bike</td>\n",
       "      <td>2024-08-08 15:16:36.808</td>\n",
       "      <td>2024-08-08 15:21:07.486</td>\n",
       "      <td>Western Ave &amp; Granville Ave</td>\n",
       "      <td>KA1504000129</td>\n",
       "      <td>Maplewood Ave &amp; Peterson Ave</td>\n",
       "      <td>KA1504000130</td>\n",
       "      <td>member</td>\n",
       "      <td>0 days 00:04:30.678000</td>\n",
       "      <td>4.511300</td>\n",
       "    </tr>\n",
       "    <tr>\n",
       "      <th>6</th>\n",
       "      <td>classic_bike</td>\n",
       "      <td>NaT</td>\n",
       "      <td>NaT</td>\n",
       "      <td>Wolcott Ave &amp; Polk St</td>\n",
       "      <td>TA1309000064</td>\n",
       "      <td>Western Ave &amp; Fillmore St</td>\n",
       "      <td>644</td>\n",
       "      <td>member</td>\n",
       "      <td>NaT</td>\n",
       "      <td>NaN</td>\n",
       "    </tr>\n",
       "  </tbody>\n",
       "</table>\n",
       "</div>"
      ],
      "text/plain": [
       "  rideable_type              started_at                ended_at  \\\n",
       "0  classic_bike 2024-09-21 22:14:43.346 2024-09-21 22:17:17.746   \n",
       "3  classic_bike 2024-08-28 18:09:20.109 2024-08-28 18:17:08.324   \n",
       "4  classic_bike 2024-09-10 17:01:40.767 2024-09-10 17:07:46.416   \n",
       "5  classic_bike 2024-08-08 15:16:36.808 2024-08-08 15:21:07.486   \n",
       "6  classic_bike                     NaT                     NaT   \n",
       "\n",
       "            start_station_name start_station_id              end_station_name  \\\n",
       "0     Peoria St & Jackson Blvd            13158             900 W Harrison St   \n",
       "3  Prairie Ave & Garfield Blvd     TA1307000160        Woodlawn Ave & 55th St   \n",
       "4        Calumet Ave & 33rd St            13217           MLK Jr Dr & 29th St   \n",
       "5  Western Ave & Granville Ave     KA1504000129  Maplewood Ave & Peterson Ave   \n",
       "6        Wolcott Ave & Polk St     TA1309000064     Western Ave & Fillmore St   \n",
       "\n",
       "  end_station_id member_casual            ride-length  ride-length-minutes  \n",
       "0          13028        member 0 days 00:02:34.400000             2.573333  \n",
       "3   TA1307000164        casual 0 days 00:07:48.215000             7.803583  \n",
       "4   TA1307000139        member 0 days 00:06:05.649000             6.094150  \n",
       "5   KA1504000130        member 0 days 00:04:30.678000             4.511300  \n",
       "6            644        member                    NaT                  NaN  "
      ]
     },
     "execution_count": 74,
     "metadata": {},
     "output_type": "execute_result"
    }
   ],
   "source": [
    "Cleaned_data.head()"
   ]
  },
  {
   "cell_type": "code",
   "execution_count": 308,
   "id": "bb6b3985-a274-46d1-aa03-6af3645b5cd3",
   "metadata": {},
   "outputs": [
    {
     "data": {
      "text/plain": [
       "24.973914999999998"
      ]
     },
     "execution_count": 308,
     "metadata": {},
     "output_type": "execute_result"
    }
   ],
   "source": [
    "Cleaned_data['ride-length-minutes'].max()/60"
   ]
  },
  {
   "cell_type": "code",
   "execution_count": 310,
   "id": "58e64543-2285-46ae-b107-470541ef4756",
   "metadata": {},
   "outputs": [
    {
     "data": {
      "text/plain": [
       "-0.9237616666666667"
      ]
     },
     "execution_count": 310,
     "metadata": {},
     "output_type": "execute_result"
    }
   ],
   "source": [
    "Cleaned_data['ride-length-minutes'].min()/60"
   ]
  },
  {
   "cell_type": "code",
   "execution_count": 96,
   "id": "310ae9fd-df90-4150-9f43-a64b1d6677d7",
   "metadata": {},
   "outputs": [
    {
     "data": {
      "text/html": [
       "<div>\n",
       "<style scoped>\n",
       "    .dataframe tbody tr th:only-of-type {\n",
       "        vertical-align: middle;\n",
       "    }\n",
       "\n",
       "    .dataframe tbody tr th {\n",
       "        vertical-align: top;\n",
       "    }\n",
       "\n",
       "    .dataframe thead th {\n",
       "        text-align: right;\n",
       "    }\n",
       "</style>\n",
       "<table border=\"1\" class=\"dataframe\">\n",
       "  <thead>\n",
       "    <tr style=\"text-align: right;\">\n",
       "      <th></th>\n",
       "      <th>rideable_type</th>\n",
       "      <th>started_at</th>\n",
       "      <th>ended_at</th>\n",
       "      <th>start_station_name</th>\n",
       "      <th>start_station_id</th>\n",
       "      <th>end_station_name</th>\n",
       "      <th>end_station_id</th>\n",
       "      <th>member_casual</th>\n",
       "      <th>ride-length</th>\n",
       "      <th>ride-length-minutes</th>\n",
       "    </tr>\n",
       "  </thead>\n",
       "  <tbody>\n",
       "    <tr>\n",
       "      <th>4776349</th>\n",
       "      <td>classic_bike</td>\n",
       "      <td>2024-11-03 01:57:59.221</td>\n",
       "      <td>2024-11-03 01:02:33.679</td>\n",
       "      <td>Clark St &amp; Berwyn Ave</td>\n",
       "      <td>KA1504000146</td>\n",
       "      <td>Broadway &amp; Ridge Ave</td>\n",
       "      <td>15578</td>\n",
       "      <td>member</td>\n",
       "      <td>-1 days +23:04:34.458000</td>\n",
       "      <td>-55.425700</td>\n",
       "    </tr>\n",
       "    <tr>\n",
       "      <th>2550218</th>\n",
       "      <td>classic_bike</td>\n",
       "      <td>2024-11-03 01:55:58.187</td>\n",
       "      <td>2024-11-03 01:03:34.688</td>\n",
       "      <td>Milwaukee Ave &amp; Wabansia Ave</td>\n",
       "      <td>13243</td>\n",
       "      <td>California Ave &amp; Milwaukee Ave</td>\n",
       "      <td>13084</td>\n",
       "      <td>member</td>\n",
       "      <td>-1 days +23:07:36.501000</td>\n",
       "      <td>-52.391650</td>\n",
       "    </tr>\n",
       "    <tr>\n",
       "      <th>4492757</th>\n",
       "      <td>electric_bike</td>\n",
       "      <td>2024-11-03 01:57:10.166</td>\n",
       "      <td>2024-11-03 01:05:39.411</td>\n",
       "      <td>Clark St &amp; Elm St</td>\n",
       "      <td>TA1307000039</td>\n",
       "      <td>Sheffield Ave &amp; Webster Ave</td>\n",
       "      <td>TA1309000033</td>\n",
       "      <td>member</td>\n",
       "      <td>-1 days +23:08:29.245000</td>\n",
       "      <td>-51.512583</td>\n",
       "    </tr>\n",
       "    <tr>\n",
       "      <th>5870441</th>\n",
       "      <td>classic_bike</td>\n",
       "      <td>2024-11-03 01:58:57.043</td>\n",
       "      <td>2024-11-03 01:09:01.069</td>\n",
       "      <td>Woodlawn Ave &amp; 55th St</td>\n",
       "      <td>TA1307000164</td>\n",
       "      <td>Woodlawn Ave &amp; 55th St</td>\n",
       "      <td>TA1307000164</td>\n",
       "      <td>member</td>\n",
       "      <td>-1 days +23:10:04.026000</td>\n",
       "      <td>-49.932900</td>\n",
       "    </tr>\n",
       "    <tr>\n",
       "      <th>3776184</th>\n",
       "      <td>classic_bike</td>\n",
       "      <td>2024-11-03 01:53:34.934</td>\n",
       "      <td>2024-11-03 01:04:55.434</td>\n",
       "      <td>Western Ave &amp; Walton St</td>\n",
       "      <td>KA1504000103</td>\n",
       "      <td>Damen Ave &amp; Charleston St</td>\n",
       "      <td>13288</td>\n",
       "      <td>member</td>\n",
       "      <td>-1 days +23:11:20.500000</td>\n",
       "      <td>-48.658333</td>\n",
       "    </tr>\n",
       "    <tr>\n",
       "      <th>...</th>\n",
       "      <td>...</td>\n",
       "      <td>...</td>\n",
       "      <td>...</td>\n",
       "      <td>...</td>\n",
       "      <td>...</td>\n",
       "      <td>...</td>\n",
       "      <td>...</td>\n",
       "      <td>...</td>\n",
       "      <td>...</td>\n",
       "      <td>...</td>\n",
       "    </tr>\n",
       "    <tr>\n",
       "      <th>5906238</th>\n",
       "      <td>classic_bike</td>\n",
       "      <td>NaT</td>\n",
       "      <td>NaT</td>\n",
       "      <td>Damen Ave &amp; Pierce Ave</td>\n",
       "      <td>TA1305000041</td>\n",
       "      <td>Larrabee St &amp; Kingsbury St</td>\n",
       "      <td>TA1306000009</td>\n",
       "      <td>member</td>\n",
       "      <td>NaT</td>\n",
       "      <td>NaN</td>\n",
       "    </tr>\n",
       "    <tr>\n",
       "      <th>5906250</th>\n",
       "      <td>classic_bike</td>\n",
       "      <td>NaT</td>\n",
       "      <td>NaT</td>\n",
       "      <td>Mies van der Rohe Way &amp; Chicago Ave</td>\n",
       "      <td>13338</td>\n",
       "      <td>Wells St &amp; Elm St</td>\n",
       "      <td>KA1504000135</td>\n",
       "      <td>member</td>\n",
       "      <td>NaT</td>\n",
       "      <td>NaN</td>\n",
       "    </tr>\n",
       "    <tr>\n",
       "      <th>5906256</th>\n",
       "      <td>classic_bike</td>\n",
       "      <td>NaT</td>\n",
       "      <td>NaT</td>\n",
       "      <td>Financial Pl &amp; Ida B Wells Dr</td>\n",
       "      <td>SL-010</td>\n",
       "      <td>May St &amp; Taylor St</td>\n",
       "      <td>13160</td>\n",
       "      <td>member</td>\n",
       "      <td>NaT</td>\n",
       "      <td>NaN</td>\n",
       "    </tr>\n",
       "    <tr>\n",
       "      <th>5906266</th>\n",
       "      <td>classic_bike</td>\n",
       "      <td>NaT</td>\n",
       "      <td>NaT</td>\n",
       "      <td>Kingsbury St &amp; Kinzie St</td>\n",
       "      <td>KA1503000043</td>\n",
       "      <td>Racine Ave &amp; Washington Blvd</td>\n",
       "      <td>654</td>\n",
       "      <td>member</td>\n",
       "      <td>NaT</td>\n",
       "      <td>NaN</td>\n",
       "    </tr>\n",
       "    <tr>\n",
       "      <th>5906267</th>\n",
       "      <td>classic_bike</td>\n",
       "      <td>NaT</td>\n",
       "      <td>NaT</td>\n",
       "      <td>Clinton St &amp; Madison St</td>\n",
       "      <td>TA1305000032</td>\n",
       "      <td>Paulina St &amp; Flournoy St</td>\n",
       "      <td>KA1504000104</td>\n",
       "      <td>member</td>\n",
       "      <td>NaT</td>\n",
       "      <td>NaN</td>\n",
       "    </tr>\n",
       "  </tbody>\n",
       "</table>\n",
       "<p>2714638 rows × 10 columns</p>\n",
       "</div>"
      ],
      "text/plain": [
       "         rideable_type              started_at                ended_at  \\\n",
       "4776349   classic_bike 2024-11-03 01:57:59.221 2024-11-03 01:02:33.679   \n",
       "2550218   classic_bike 2024-11-03 01:55:58.187 2024-11-03 01:03:34.688   \n",
       "4492757  electric_bike 2024-11-03 01:57:10.166 2024-11-03 01:05:39.411   \n",
       "5870441   classic_bike 2024-11-03 01:58:57.043 2024-11-03 01:09:01.069   \n",
       "3776184   classic_bike 2024-11-03 01:53:34.934 2024-11-03 01:04:55.434   \n",
       "...                ...                     ...                     ...   \n",
       "5906238   classic_bike                     NaT                     NaT   \n",
       "5906250   classic_bike                     NaT                     NaT   \n",
       "5906256   classic_bike                     NaT                     NaT   \n",
       "5906266   classic_bike                     NaT                     NaT   \n",
       "5906267   classic_bike                     NaT                     NaT   \n",
       "\n",
       "                          start_station_name start_station_id  \\\n",
       "4776349                Clark St & Berwyn Ave     KA1504000146   \n",
       "2550218         Milwaukee Ave & Wabansia Ave            13243   \n",
       "4492757                    Clark St & Elm St     TA1307000039   \n",
       "5870441               Woodlawn Ave & 55th St     TA1307000164   \n",
       "3776184              Western Ave & Walton St     KA1504000103   \n",
       "...                                      ...              ...   \n",
       "5906238               Damen Ave & Pierce Ave     TA1305000041   \n",
       "5906250  Mies van der Rohe Way & Chicago Ave            13338   \n",
       "5906256        Financial Pl & Ida B Wells Dr           SL-010   \n",
       "5906266             Kingsbury St & Kinzie St     KA1503000043   \n",
       "5906267              Clinton St & Madison St     TA1305000032   \n",
       "\n",
       "                       end_station_name end_station_id member_casual  \\\n",
       "4776349            Broadway & Ridge Ave          15578        member   \n",
       "2550218  California Ave & Milwaukee Ave          13084        member   \n",
       "4492757     Sheffield Ave & Webster Ave   TA1309000033        member   \n",
       "5870441          Woodlawn Ave & 55th St   TA1307000164        member   \n",
       "3776184       Damen Ave & Charleston St          13288        member   \n",
       "...                                 ...            ...           ...   \n",
       "5906238      Larrabee St & Kingsbury St   TA1306000009        member   \n",
       "5906250               Wells St & Elm St   KA1504000135        member   \n",
       "5906256              May St & Taylor St          13160        member   \n",
       "5906266    Racine Ave & Washington Blvd            654        member   \n",
       "5906267        Paulina St & Flournoy St   KA1504000104        member   \n",
       "\n",
       "                     ride-length  ride-length-minutes  \n",
       "4776349 -1 days +23:04:34.458000           -55.425700  \n",
       "2550218 -1 days +23:07:36.501000           -52.391650  \n",
       "4492757 -1 days +23:08:29.245000           -51.512583  \n",
       "5870441 -1 days +23:10:04.026000           -49.932900  \n",
       "3776184 -1 days +23:11:20.500000           -48.658333  \n",
       "...                          ...                  ...  \n",
       "5906238                      NaT                  NaN  \n",
       "5906250                      NaT                  NaN  \n",
       "5906256                      NaT                  NaN  \n",
       "5906266                      NaT                  NaN  \n",
       "5906267                      NaT                  NaN  \n",
       "\n",
       "[2714638 rows x 10 columns]"
      ]
     },
     "execution_count": 96,
     "metadata": {},
     "output_type": "execute_result"
    }
   ],
   "source": [
    "Cleaned_data[Cleaned_data['member_casual'] == 'member'].sort_values('ride-length-minutes')"
   ]
  },
  {
   "cell_type": "code",
   "execution_count": 104,
   "id": "7be0f8c1-9bd9-4fb3-b911-8709682fa488",
   "metadata": {},
   "outputs": [
    {
     "data": {
      "text/plain": [
       "<Axes: xlabel='member_casual'>"
      ]
     },
     "execution_count": 104,
     "metadata": {},
     "output_type": "execute_result"
    },
    {
     "data": {
      "image/png": "[encoded data removed]",
      "text/plain": [
       "<Figure size 640x480 with 1 Axes>"
      ]
     },
     "metadata": {},
     "output_type": "display_data"
    }
   ],
   "source": [
    "Cleaned_data.groupby(['member_casual']).size().plot(kind='bar', stacked=True)"
   ]
  },
  {
   "cell_type": "code",
   "execution_count": 106,
   "id": "d47c6969-a598-4ef5-98eb-1d6469c7edce",
   "metadata": {},
   "outputs": [
    {
     "data": {
      "text/plain": [
       "<Axes: xlabel='member_casual,rideable_type'>"
      ]
     },
     "execution_count": 106,
     "metadata": {},
     "output_type": "execute_result"
    },
    {
     "data": {
      "image/png": "[encoded data removed]",
      "text/plain": [
       "<Figure size 640x480 with 1 Axes>"
      ]
     },
     "metadata": {},
     "output_type": "display_data"
    }
   ],
   "source": [
    "Cleaned_data.groupby(['member_casual', 'rideable_type']).size().plot(kind='bar', stacked=True)"
   ]
  },
  {
   "cell_type": "code",
   "execution_count": 120,
   "id": "a83b60c0-2131-42af-98c5-cd0ac166691c",
   "metadata": {},
   "outputs": [
    {
     "ename": "AttributeError",
     "evalue": "module 'matplotlib' has no attribute 'xlabel'",
     "output_type": "error",
     "traceback": [
      "\u001b[1;31m---------------------------------------------------------------------------\u001b[0m",
      "\u001b[1;31mAttributeError\u001b[0m                            Traceback (most recent call last)",
      "Cell \u001b[1;32mIn[120], line 5\u001b[0m\n\u001b[0;32m      2\u001b[0m stacked_data\u001b[38;5;241m.\u001b[39mplot(kind\u001b[38;5;241m=\u001b[39m\u001b[38;5;124m'\u001b[39m\u001b[38;5;124mbar\u001b[39m\u001b[38;5;124m'\u001b[39m, stacked\u001b[38;5;241m=\u001b[39m\u001b[38;5;28;01mTrue\u001b[39;00m, figsize\u001b[38;5;241m=\u001b[39m(\u001b[38;5;241m10\u001b[39m, \u001b[38;5;241m6\u001b[39m), title\u001b[38;5;241m=\u001b[39m\u001b[38;5;124m'\u001b[39m\u001b[38;5;124mRideable Types by Membership Type\u001b[39m\u001b[38;5;124m'\u001b[39m)\n\u001b[0;32m      4\u001b[0m \u001b[38;5;66;03m# Add labels and a title for better readability\u001b[39;00m\n\u001b[1;32m----> 5\u001b[0m plt\u001b[38;5;241m.\u001b[39mxlabel(\u001b[38;5;124m'\u001b[39m\u001b[38;5;124mMembership Type\u001b[39m\u001b[38;5;124m'\u001b[39m)\n\u001b[0;32m      6\u001b[0m plt\u001b[38;5;241m.\u001b[39mylabel(\u001b[38;5;124m'\u001b[39m\u001b[38;5;124mCount\u001b[39m\u001b[38;5;124m'\u001b[39m)\n\u001b[0;32m      7\u001b[0m plt\u001b[38;5;241m.\u001b[39mlegend(title\u001b[38;5;241m=\u001b[39m\u001b[38;5;124m'\u001b[39m\u001b[38;5;124mRideable Type\u001b[39m\u001b[38;5;124m'\u001b[39m)\n",
      "File \u001b[1;32m~\\anaconda3\\Lib\\site-packages\\matplotlib\\_api\\__init__.py:217\u001b[0m, in \u001b[0;36mcaching_module_getattr.<locals>.__getattr__\u001b[1;34m(name)\u001b[0m\n\u001b[0;32m    215\u001b[0m \u001b[38;5;28;01mif\u001b[39;00m name \u001b[38;5;129;01min\u001b[39;00m props:\n\u001b[0;32m    216\u001b[0m     \u001b[38;5;28;01mreturn\u001b[39;00m props[name]\u001b[38;5;241m.\u001b[39m\u001b[38;5;21m__get__\u001b[39m(instance)\n\u001b[1;32m--> 217\u001b[0m \u001b[38;5;28;01mraise\u001b[39;00m \u001b[38;5;167;01mAttributeError\u001b[39;00m(\n\u001b[0;32m    218\u001b[0m     \u001b[38;5;124mf\u001b[39m\u001b[38;5;124m\"\u001b[39m\u001b[38;5;124mmodule \u001b[39m\u001b[38;5;132;01m{\u001b[39;00m\u001b[38;5;28mcls\u001b[39m\u001b[38;5;241m.\u001b[39m\u001b[38;5;18m__module__\u001b[39m\u001b[38;5;132;01m!r}\u001b[39;00m\u001b[38;5;124m has no attribute \u001b[39m\u001b[38;5;132;01m{\u001b[39;00mname\u001b[38;5;132;01m!r}\u001b[39;00m\u001b[38;5;124m\"\u001b[39m)\n",
      "\u001b[1;31mAttributeError\u001b[0m: module 'matplotlib' has no attribute 'xlabel'"
     ]
    },
    {
     "data": {
      "image/png": "[encoded data removed]",
      "text/plain": [
       "<Figure size 1000x600 with 1 Axes>"
      ]
     },
     "metadata": {},
     "output_type": "display_data"
    }
   ],
   "source": [
    "stacked_data = Cleaned_data.groupby(['member_casual', 'rideable_type']).size().unstack()\n",
    "stacked_data.plot(kind='bar', stacked=True, figsize=(10, 6), title='Rideable Types by Membership Type')\n",
    "\n",
    "# Add labels and a title for better readability\n",
    "plt.xlabel('Membership Type')\n",
    "plt.ylabel('Count')\n",
    "plt.legend(title='Rideable Type')"
   ]
  },
  {
   "cell_type": "code",
   "execution_count": 122,
   "id": "703613af-54f6-4dfb-8520-fd66ddcbda2a",
   "metadata": {},
   "outputs": [
    {
     "data": {
      "text/html": [
       "<div>\n",
       "<style scoped>\n",
       "    .dataframe tbody tr th:only-of-type {\n",
       "        vertical-align: middle;\n",
       "    }\n",
       "\n",
       "    .dataframe tbody tr th {\n",
       "        vertical-align: top;\n",
       "    }\n",
       "\n",
       "    .dataframe thead th {\n",
       "        text-align: right;\n",
       "    }\n",
       "</style>\n",
       "<table border=\"1\" class=\"dataframe\">\n",
       "  <thead>\n",
       "    <tr style=\"text-align: right;\">\n",
       "      <th></th>\n",
       "      <th>rideable_type</th>\n",
       "      <th>started_at</th>\n",
       "      <th>ended_at</th>\n",
       "      <th>start_station_name</th>\n",
       "      <th>start_station_id</th>\n",
       "      <th>end_station_name</th>\n",
       "      <th>end_station_id</th>\n",
       "      <th>member_casual</th>\n",
       "      <th>ride-length</th>\n",
       "      <th>ride-length-minutes</th>\n",
       "    </tr>\n",
       "  </thead>\n",
       "  <tbody>\n",
       "    <tr>\n",
       "      <th>0</th>\n",
       "      <td>classic_bike</td>\n",
       "      <td>2024-09-21 22:14:43.346</td>\n",
       "      <td>2024-09-21 22:17:17.746</td>\n",
       "      <td>Peoria St &amp; Jackson Blvd</td>\n",
       "      <td>13158</td>\n",
       "      <td>900 W Harrison St</td>\n",
       "      <td>13028</td>\n",
       "      <td>member</td>\n",
       "      <td>0 days 00:02:34.400000</td>\n",
       "      <td>2.573333</td>\n",
       "    </tr>\n",
       "    <tr>\n",
       "      <th>3</th>\n",
       "      <td>classic_bike</td>\n",
       "      <td>2024-08-28 18:09:20.109</td>\n",
       "      <td>2024-08-28 18:17:08.324</td>\n",
       "      <td>Prairie Ave &amp; Garfield Blvd</td>\n",
       "      <td>TA1307000160</td>\n",
       "      <td>Woodlawn Ave &amp; 55th St</td>\n",
       "      <td>TA1307000164</td>\n",
       "      <td>casual</td>\n",
       "      <td>0 days 00:07:48.215000</td>\n",
       "      <td>7.803583</td>\n",
       "    </tr>\n",
       "    <tr>\n",
       "      <th>4</th>\n",
       "      <td>classic_bike</td>\n",
       "      <td>2024-09-10 17:01:40.767</td>\n",
       "      <td>2024-09-10 17:07:46.416</td>\n",
       "      <td>Calumet Ave &amp; 33rd St</td>\n",
       "      <td>13217</td>\n",
       "      <td>MLK Jr Dr &amp; 29th St</td>\n",
       "      <td>TA1307000139</td>\n",
       "      <td>member</td>\n",
       "      <td>0 days 00:06:05.649000</td>\n",
       "      <td>6.094150</td>\n",
       "    </tr>\n",
       "    <tr>\n",
       "      <th>5</th>\n",
       "      <td>classic_bike</td>\n",
       "      <td>2024-08-08 15:16:36.808</td>\n",
       "      <td>2024-08-08 15:21:07.486</td>\n",
       "      <td>Western Ave &amp; Granville Ave</td>\n",
       "      <td>KA1504000129</td>\n",
       "      <td>Maplewood Ave &amp; Peterson Ave</td>\n",
       "      <td>KA1504000130</td>\n",
       "      <td>member</td>\n",
       "      <td>0 days 00:04:30.678000</td>\n",
       "      <td>4.511300</td>\n",
       "    </tr>\n",
       "    <tr>\n",
       "      <th>6</th>\n",
       "      <td>classic_bike</td>\n",
       "      <td>NaT</td>\n",
       "      <td>NaT</td>\n",
       "      <td>Wolcott Ave &amp; Polk St</td>\n",
       "      <td>TA1309000064</td>\n",
       "      <td>Western Ave &amp; Fillmore St</td>\n",
       "      <td>644</td>\n",
       "      <td>member</td>\n",
       "      <td>NaT</td>\n",
       "      <td>NaN</td>\n",
       "    </tr>\n",
       "  </tbody>\n",
       "</table>\n",
       "</div>"
      ],
      "text/plain": [
       "  rideable_type              started_at                ended_at  \\\n",
       "0  classic_bike 2024-09-21 22:14:43.346 2024-09-21 22:17:17.746   \n",
       "3  classic_bike 2024-08-28 18:09:20.109 2024-08-28 18:17:08.324   \n",
       "4  classic_bike 2024-09-10 17:01:40.767 2024-09-10 17:07:46.416   \n",
       "5  classic_bike 2024-08-08 15:16:36.808 2024-08-08 15:21:07.486   \n",
       "6  classic_bike                     NaT                     NaT   \n",
       "\n",
       "            start_station_name start_station_id              end_station_name  \\\n",
       "0     Peoria St & Jackson Blvd            13158             900 W Harrison St   \n",
       "3  Prairie Ave & Garfield Blvd     TA1307000160        Woodlawn Ave & 55th St   \n",
       "4        Calumet Ave & 33rd St            13217           MLK Jr Dr & 29th St   \n",
       "5  Western Ave & Granville Ave     KA1504000129  Maplewood Ave & Peterson Ave   \n",
       "6        Wolcott Ave & Polk St     TA1309000064     Western Ave & Fillmore St   \n",
       "\n",
       "  end_station_id member_casual            ride-length  ride-length-minutes  \n",
       "0          13028        member 0 days 00:02:34.400000             2.573333  \n",
       "3   TA1307000164        casual 0 days 00:07:48.215000             7.803583  \n",
       "4   TA1307000139        member 0 days 00:06:05.649000             6.094150  \n",
       "5   KA1504000130        member 0 days 00:04:30.678000             4.511300  \n",
       "6            644        member                    NaT                  NaN  "
      ]
     },
     "execution_count": 122,
     "metadata": {},
     "output_type": "execute_result"
    }
   ],
   "source": [
    "Cleaned_data.head()"
   ]
  },
  {
   "cell_type": "code",
   "execution_count": 148,
   "id": "8b9098e1-77dd-4a37-8a7c-d1a4ae098334",
   "metadata": {},
   "outputs": [
    {
     "name": "stdout",
     "output_type": "stream",
     "text": [
      "                                                                          ride-length-minutes\n",
      "member_casual start_station_name   end_station_name                                          \n",
      "casual        2112 W Peterson Ave  2112 W Peterson Ave                             326.642050\n",
      "                                   Bernard St & Peterson Ave                        14.875817\n",
      "                                   Broadway & Argyle St                             18.618250\n",
      "                                   Broadway & Barry Ave                             70.525783\n",
      "                                   Broadway & Berwyn Ave                             0.000000\n",
      "...                                                                                       ...\n",
      "member        Yates Blvd & 93rd St Bradley Park                                     36.407067\n",
      "                                   Oglesby Ave & 100th St                           29.934983\n",
      "                                   Public Rack - Lafayette Ave & 95th St            17.572750\n",
      "                                   Public Rack - Oglesby Ave & 95th St               2.991950\n",
      "                                   Yates Blvd & 93rd St                             42.136917\n",
      "\n",
      "[275357 rows x 1 columns]\n"
     ]
    }
   ],
   "source": [
    "grouped_sum = Cleaned_data.groupby(['member_casual', 'start_station_name', 'end_station_name']).sum(\"ride-length-minutes\")\n",
    "\n",
    "# Display the result\n",
    "print(grouped_sum)"
   ]
  },
  {
   "cell_type": "code",
   "execution_count": 181,
   "id": "64c0e099-84cb-4128-a2c9-ffb19943e9d5",
   "metadata": {},
   "outputs": [
    {
     "data": {
      "text/plain": [
       "(275357, 1)"
      ]
     },
     "execution_count": 181,
     "metadata": {},
     "output_type": "execute_result"
    }
   ],
   "source": [
    "grouped_sum.shape"
   ]
  },
  {
   "cell_type": "code",
   "execution_count": 195,
   "id": "cc932396-b7ae-470b-a97f-a56a12919d1d",
   "metadata": {},
   "outputs": [
    {
     "data": {
      "text/plain": [
       "ride-length-minutes    float64\n",
       "dtype: object"
      ]
     },
     "execution_count": 195,
     "metadata": {},
     "output_type": "execute_result"
    }
   ],
   "source": [
    "grouped_sum.dtypes"
   ]
  },
  {
   "cell_type": "code",
   "execution_count": 203,
   "id": "50881cf0-e707-4394-92d2-ab010b3630fa",
   "metadata": {},
   "outputs": [
    {
     "data": {
      "text/html": [
       "<div>\n",
       "<style scoped>\n",
       "    .dataframe tbody tr th:only-of-type {\n",
       "        vertical-align: middle;\n",
       "    }\n",
       "\n",
       "    .dataframe tbody tr th {\n",
       "        vertical-align: top;\n",
       "    }\n",
       "\n",
       "    .dataframe thead th {\n",
       "        text-align: right;\n",
       "    }\n",
       "</style>\n",
       "<table border=\"1\" class=\"dataframe\">\n",
       "  <thead>\n",
       "    <tr style=\"text-align: right;\">\n",
       "      <th></th>\n",
       "      <th></th>\n",
       "      <th></th>\n",
       "      <th>ride-length-minutes</th>\n",
       "    </tr>\n",
       "    <tr>\n",
       "      <th>member_casual</th>\n",
       "      <th>start_station_name</th>\n",
       "      <th>end_station_name</th>\n",
       "      <th></th>\n",
       "    </tr>\n",
       "  </thead>\n",
       "  <tbody>\n",
       "    <tr>\n",
       "      <th rowspan=\"20\" valign=\"top\">casual</th>\n",
       "      <th rowspan=\"20\" valign=\"top\">2112 W Peterson Ave</th>\n",
       "      <th>2112 W Peterson Ave</th>\n",
       "      <td>326.642050</td>\n",
       "    </tr>\n",
       "    <tr>\n",
       "      <th>Bernard St &amp; Peterson Ave</th>\n",
       "      <td>14.875817</td>\n",
       "    </tr>\n",
       "    <tr>\n",
       "      <th>Broadway &amp; Argyle St</th>\n",
       "      <td>18.618250</td>\n",
       "    </tr>\n",
       "    <tr>\n",
       "      <th>Broadway &amp; Barry Ave</th>\n",
       "      <td>70.525783</td>\n",
       "    </tr>\n",
       "    <tr>\n",
       "      <th>Broadway &amp; Berwyn Ave</th>\n",
       "      <td>0.000000</td>\n",
       "    </tr>\n",
       "    <tr>\n",
       "      <th>Broadway &amp; Cornelia Ave</th>\n",
       "      <td>20.365233</td>\n",
       "    </tr>\n",
       "    <tr>\n",
       "      <th>Broadway &amp; Granville Ave</th>\n",
       "      <td>110.088933</td>\n",
       "    </tr>\n",
       "    <tr>\n",
       "      <th>Broadway &amp; Ridge Ave</th>\n",
       "      <td>40.500367</td>\n",
       "    </tr>\n",
       "    <tr>\n",
       "      <th>Broadway &amp; Thorndale Ave</th>\n",
       "      <td>226.563133</td>\n",
       "    </tr>\n",
       "    <tr>\n",
       "      <th>Broadway &amp; Wilson Ave</th>\n",
       "      <td>0.000000</td>\n",
       "    </tr>\n",
       "    <tr>\n",
       "      <th>Budlong Woods Library</th>\n",
       "      <td>48.825550</td>\n",
       "    </tr>\n",
       "    <tr>\n",
       "      <th>California Ave &amp; Granville Ave</th>\n",
       "      <td>12.274500</td>\n",
       "    </tr>\n",
       "    <tr>\n",
       "      <th>California Ave &amp; Montrose Ave</th>\n",
       "      <td>33.252617</td>\n",
       "    </tr>\n",
       "    <tr>\n",
       "      <th>Clarendon Ave &amp; Junior Ter</th>\n",
       "      <td>17.176767</td>\n",
       "    </tr>\n",
       "    <tr>\n",
       "      <th>Clark St &amp; Berwyn Ave</th>\n",
       "      <td>46.062717</td>\n",
       "    </tr>\n",
       "    <tr>\n",
       "      <th>Clark St &amp; Bryn Mawr Ave</th>\n",
       "      <td>69.499917</td>\n",
       "    </tr>\n",
       "    <tr>\n",
       "      <th>Clark St &amp; Columbia Ave</th>\n",
       "      <td>21.653450</td>\n",
       "    </tr>\n",
       "    <tr>\n",
       "      <th>Clark St &amp; Elmdale Ave</th>\n",
       "      <td>81.775467</td>\n",
       "    </tr>\n",
       "    <tr>\n",
       "      <th>Clark St &amp; Leland Ave</th>\n",
       "      <td>64.437217</td>\n",
       "    </tr>\n",
       "    <tr>\n",
       "      <th>Clark St &amp; Lunt Ave</th>\n",
       "      <td>11.126333</td>\n",
       "    </tr>\n",
       "  </tbody>\n",
       "</table>\n",
       "</div>"
      ],
      "text/plain": [
       "                                                                  ride-length-minutes\n",
       "member_casual start_station_name  end_station_name                                   \n",
       "casual        2112 W Peterson Ave 2112 W Peterson Ave                      326.642050\n",
       "                                  Bernard St & Peterson Ave                 14.875817\n",
       "                                  Broadway & Argyle St                      18.618250\n",
       "                                  Broadway & Barry Ave                      70.525783\n",
       "                                  Broadway & Berwyn Ave                      0.000000\n",
       "                                  Broadway & Cornelia Ave                   20.365233\n",
       "                                  Broadway & Granville Ave                 110.088933\n",
       "                                  Broadway & Ridge Ave                      40.500367\n",
       "                                  Broadway & Thorndale Ave                 226.563133\n",
       "                                  Broadway & Wilson Ave                      0.000000\n",
       "                                  Budlong Woods Library                     48.825550\n",
       "                                  California Ave & Granville Ave            12.274500\n",
       "                                  California Ave & Montrose Ave             33.252617\n",
       "                                  Clarendon Ave & Junior Ter                17.176767\n",
       "                                  Clark St & Berwyn Ave                     46.062717\n",
       "                                  Clark St & Bryn Mawr Ave                  69.499917\n",
       "                                  Clark St & Columbia Ave                   21.653450\n",
       "                                  Clark St & Elmdale Ave                    81.775467\n",
       "                                  Clark St & Leland Ave                     64.437217\n",
       "                                  Clark St & Lunt Ave                       11.126333"
      ]
     },
     "execution_count": 203,
     "metadata": {},
     "output_type": "execute_result"
    }
   ],
   "source": [
    "grouped_sum.head(20)"
   ]
  },
  {
   "cell_type": "code",
   "execution_count": null,
   "id": "28b45d92-7569-4d10-affa-af9bf3aa3587",
   "metadata": {},
   "outputs": [],
   "source": []
  }
 ],
 "metadata": {
  "kernelspec": {
   "display_name": "Python 3 (ipykernel)",
   "language": "python",
   "name": "python3"
  },
  "language_info": {
   "codemirror_mode": {
    "name": "ipython",
    "version": 3
   },
   "file_extension": ".py",
   "mimetype": "text/x-python",
   "name": "python",
   "nbconvert_exporter": "python",
   "pygments_lexer": "ipython3",
   "version": "3.12.4"
  }
 },
 "nbformat": 4,
 "nbformat_minor": 5
}
